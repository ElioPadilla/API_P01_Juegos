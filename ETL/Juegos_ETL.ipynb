{
 "cells": [
  {
   "cell_type": "code",
   "execution_count": 1,
   "metadata": {},
   "outputs": [],
   "source": [
    "import pandas as pd\n",
    "import json\n",
    "import ast\n",
    "from datetime import datetime\n",
    "import numpy as np\n",
    "import math\n"
   ]
  },
  {
   "cell_type": "code",
   "execution_count": 2,
   "metadata": {},
   "outputs": [],
   "source": [
    "ruta = \"C:/Users/Elio Padilla/Desktop/SOYHENRY/MODULO_LABS/JUEGOS_ML_OP/datasets/\"\n",
    "#archivo = \"Cuota_Archivo.json\"\n",
    "archivo = \"steam_games.json\""
   ]
  },
  {
   "cell_type": "code",
   "execution_count": 3,
   "metadata": {},
   "outputs": [],
   "source": [
    "#El archivo viene en formato json, pero no es leido por el metodo read_json(), por tanto hacemos uso de la libreria ast,\n",
    "# compilamos por lenea y convertimos luego a formato de dataFrame.\n",
    "rows = []\n",
    "with open(ruta+archivo) as f:\n",
    "    for line in f.readlines():\n",
    "        rows.append(ast.literal_eval(line))    \n",
    "    "
   ]
  },
  {
   "cell_type": "code",
   "execution_count": 4,
   "metadata": {},
   "outputs": [],
   "source": [
    "#Convertimos la compilacion de linas del archivo origen en un DataFrame\n",
    "df = pd.DataFrame(rows)"
   ]
  },
  {
   "cell_type": "code",
   "execution_count": 5,
   "metadata": {},
   "outputs": [
    {
     "data": {
      "text/html": [
       "<div>\n",
       "<style scoped>\n",
       "    .dataframe tbody tr th:only-of-type {\n",
       "        vertical-align: middle;\n",
       "    }\n",
       "\n",
       "    .dataframe tbody tr th {\n",
       "        vertical-align: top;\n",
       "    }\n",
       "\n",
       "    .dataframe thead th {\n",
       "        text-align: right;\n",
       "    }\n",
       "</style>\n",
       "<table border=\"1\" class=\"dataframe\">\n",
       "  <thead>\n",
       "    <tr style=\"text-align: right;\">\n",
       "      <th></th>\n",
       "      <th>publisher</th>\n",
       "      <th>genres</th>\n",
       "      <th>app_name</th>\n",
       "      <th>title</th>\n",
       "      <th>url</th>\n",
       "      <th>release_date</th>\n",
       "      <th>tags</th>\n",
       "      <th>discount_price</th>\n",
       "      <th>reviews_url</th>\n",
       "      <th>specs</th>\n",
       "      <th>price</th>\n",
       "      <th>early_access</th>\n",
       "      <th>id</th>\n",
       "      <th>developer</th>\n",
       "      <th>sentiment</th>\n",
       "      <th>metascore</th>\n",
       "    </tr>\n",
       "  </thead>\n",
       "  <tbody>\n",
       "    <tr>\n",
       "      <th>0</th>\n",
       "      <td>Kotoshiro</td>\n",
       "      <td>[Action, Casual, Indie, Simulation, Strategy]</td>\n",
       "      <td>Lost Summoner Kitty</td>\n",
       "      <td>Lost Summoner Kitty</td>\n",
       "      <td>http://store.steampowered.com/app/761140/Lost_...</td>\n",
       "      <td>2018-01-04</td>\n",
       "      <td>[Strategy, Action, Indie, Casual, Simulation]</td>\n",
       "      <td>4.49</td>\n",
       "      <td>http://steamcommunity.com/app/761140/reviews/?...</td>\n",
       "      <td>[Single-player]</td>\n",
       "      <td>4.99</td>\n",
       "      <td>False</td>\n",
       "      <td>761140</td>\n",
       "      <td>Kotoshiro</td>\n",
       "      <td>NaN</td>\n",
       "      <td>NaN</td>\n",
       "    </tr>\n",
       "    <tr>\n",
       "      <th>1</th>\n",
       "      <td>Making Fun, Inc.</td>\n",
       "      <td>[Free to Play, Indie, RPG, Strategy]</td>\n",
       "      <td>Ironbound</td>\n",
       "      <td>Ironbound</td>\n",
       "      <td>http://store.steampowered.com/app/643980/Ironb...</td>\n",
       "      <td>2018-01-04</td>\n",
       "      <td>[Free to Play, Strategy, Indie, RPG, Card Game...</td>\n",
       "      <td>NaN</td>\n",
       "      <td>http://steamcommunity.com/app/643980/reviews/?...</td>\n",
       "      <td>[Single-player, Multi-player, Online Multi-Pla...</td>\n",
       "      <td>Free To Play</td>\n",
       "      <td>False</td>\n",
       "      <td>643980</td>\n",
       "      <td>Secret Level SRL</td>\n",
       "      <td>Mostly Positive</td>\n",
       "      <td>NaN</td>\n",
       "    </tr>\n",
       "  </tbody>\n",
       "</table>\n",
       "</div>"
      ],
      "text/plain": [
       "          publisher                                         genres   \n",
       "0         Kotoshiro  [Action, Casual, Indie, Simulation, Strategy]  \\\n",
       "1  Making Fun, Inc.           [Free to Play, Indie, RPG, Strategy]   \n",
       "\n",
       "              app_name                title   \n",
       "0  Lost Summoner Kitty  Lost Summoner Kitty  \\\n",
       "1            Ironbound            Ironbound   \n",
       "\n",
       "                                                 url release_date   \n",
       "0  http://store.steampowered.com/app/761140/Lost_...   2018-01-04  \\\n",
       "1  http://store.steampowered.com/app/643980/Ironb...   2018-01-04   \n",
       "\n",
       "                                                tags  discount_price   \n",
       "0      [Strategy, Action, Indie, Casual, Simulation]            4.49  \\\n",
       "1  [Free to Play, Strategy, Indie, RPG, Card Game...             NaN   \n",
       "\n",
       "                                         reviews_url   \n",
       "0  http://steamcommunity.com/app/761140/reviews/?...  \\\n",
       "1  http://steamcommunity.com/app/643980/reviews/?...   \n",
       "\n",
       "                                               specs         price   \n",
       "0                                    [Single-player]          4.99  \\\n",
       "1  [Single-player, Multi-player, Online Multi-Pla...  Free To Play   \n",
       "\n",
       "   early_access      id         developer        sentiment metascore  \n",
       "0         False  761140         Kotoshiro              NaN       NaN  \n",
       "1         False  643980  Secret Level SRL  Mostly Positive       NaN  "
      ]
     },
     "execution_count": 5,
     "metadata": {},
     "output_type": "execute_result"
    }
   ],
   "source": [
    "df.head(2)"
   ]
  },
  {
   "cell_type": "code",
   "execution_count": 6,
   "metadata": {},
   "outputs": [
    {
     "data": {
      "text/plain": [
       "Index(['publisher', 'genres', 'app_name', 'title', 'url', 'release_date',\n",
       "       'tags', 'discount_price', 'reviews_url', 'specs', 'price',\n",
       "       'early_access', 'id', 'developer', 'sentiment', 'metascore'],\n",
       "      dtype='object')"
      ]
     },
     "execution_count": 6,
     "metadata": {},
     "output_type": "execute_result"
    }
   ],
   "source": [
    "df.columns"
   ]
  },
  {
   "cell_type": "code",
   "execution_count": 7,
   "metadata": {},
   "outputs": [
    {
     "name": "stdout",
     "output_type": "stream",
     "text": [
      "<class 'pandas.core.frame.DataFrame'>\n",
      "RangeIndex: 32135 entries, 0 to 32134\n",
      "Data columns (total 16 columns):\n",
      " #   Column          Non-Null Count  Dtype  \n",
      "---  ------          --------------  -----  \n",
      " 0   publisher       24083 non-null  object \n",
      " 1   genres          28852 non-null  object \n",
      " 2   app_name        32133 non-null  object \n",
      " 3   title           30085 non-null  object \n",
      " 4   url             32135 non-null  object \n",
      " 5   release_date    30068 non-null  object \n",
      " 6   tags            31972 non-null  object \n",
      " 7   discount_price  225 non-null    float64\n",
      " 8   reviews_url     32133 non-null  object \n",
      " 9   specs           31465 non-null  object \n",
      " 10  price           30758 non-null  object \n",
      " 11  early_access    32135 non-null  bool   \n",
      " 12  id              32133 non-null  object \n",
      " 13  developer       28836 non-null  object \n",
      " 14  sentiment       24953 non-null  object \n",
      " 15  metascore       2677 non-null   object \n",
      "dtypes: bool(1), float64(1), object(14)\n",
      "memory usage: 3.7+ MB\n"
     ]
    }
   ],
   "source": [
    "df.info()"
   ]
  },
  {
   "cell_type": "markdown",
   "metadata": {},
   "source": [
    "PROCEDEMOS A \"APLANAR\" REGISTROS DEL DATAFRAME EN FUCION DE AQUELLAS COLUMNAS QUE VIENEN CON DIFERENTES E INDEPENDIENTES VALORES.\n",
    "VALE LA PENA DESTACAR QUE MANEJAR LOS DIFERENTES VALORES DE ALGUNAS DE ESTAS COLUMNAS PODRA SER UTILI A EFECTOS DEL MODELO ML QUE DEBERA DISEÑARSE.\n",
    "ES POR ELLO QUE SE PRETENDE MANEJAR DICHOS VALORES. ESTOS CAMPOS SERAN LO RELACIONADOS A:\n",
    "1.- GENERO DEL JUEGO.\n",
    "2.- TARGET DEL JUEGO\n",
    "3.- ESPECIFICACINES DEL JUEGO"
   ]
  },
  {
   "cell_type": "code",
   "execution_count": 5,
   "metadata": {},
   "outputs": [],
   "source": [
    "df_expandido = df.explode('genres')"
   ]
  },
  {
   "cell_type": "code",
   "execution_count": 9,
   "metadata": {},
   "outputs": [
    {
     "data": {
      "text/html": [
       "<div>\n",
       "<style scoped>\n",
       "    .dataframe tbody tr th:only-of-type {\n",
       "        vertical-align: middle;\n",
       "    }\n",
       "\n",
       "    .dataframe tbody tr th {\n",
       "        vertical-align: top;\n",
       "    }\n",
       "\n",
       "    .dataframe thead th {\n",
       "        text-align: right;\n",
       "    }\n",
       "</style>\n",
       "<table border=\"1\" class=\"dataframe\">\n",
       "  <thead>\n",
       "    <tr style=\"text-align: right;\">\n",
       "      <th></th>\n",
       "      <th>publisher</th>\n",
       "      <th>genres</th>\n",
       "      <th>app_name</th>\n",
       "      <th>title</th>\n",
       "      <th>url</th>\n",
       "      <th>release_date</th>\n",
       "      <th>tags</th>\n",
       "      <th>discount_price</th>\n",
       "      <th>reviews_url</th>\n",
       "      <th>specs</th>\n",
       "      <th>price</th>\n",
       "      <th>early_access</th>\n",
       "      <th>id</th>\n",
       "      <th>developer</th>\n",
       "      <th>sentiment</th>\n",
       "      <th>metascore</th>\n",
       "    </tr>\n",
       "  </thead>\n",
       "  <tbody>\n",
       "    <tr>\n",
       "      <th>0</th>\n",
       "      <td>Kotoshiro</td>\n",
       "      <td>Action</td>\n",
       "      <td>Lost Summoner Kitty</td>\n",
       "      <td>Lost Summoner Kitty</td>\n",
       "      <td>http://store.steampowered.com/app/761140/Lost_...</td>\n",
       "      <td>2018-01-04</td>\n",
       "      <td>[Strategy, Action, Indie, Casual, Simulation]</td>\n",
       "      <td>4.49</td>\n",
       "      <td>http://steamcommunity.com/app/761140/reviews/?...</td>\n",
       "      <td>[Single-player]</td>\n",
       "      <td>4.99</td>\n",
       "      <td>False</td>\n",
       "      <td>761140</td>\n",
       "      <td>Kotoshiro</td>\n",
       "      <td>NaN</td>\n",
       "      <td>NaN</td>\n",
       "    </tr>\n",
       "    <tr>\n",
       "      <th>0</th>\n",
       "      <td>Kotoshiro</td>\n",
       "      <td>Casual</td>\n",
       "      <td>Lost Summoner Kitty</td>\n",
       "      <td>Lost Summoner Kitty</td>\n",
       "      <td>http://store.steampowered.com/app/761140/Lost_...</td>\n",
       "      <td>2018-01-04</td>\n",
       "      <td>[Strategy, Action, Indie, Casual, Simulation]</td>\n",
       "      <td>4.49</td>\n",
       "      <td>http://steamcommunity.com/app/761140/reviews/?...</td>\n",
       "      <td>[Single-player]</td>\n",
       "      <td>4.99</td>\n",
       "      <td>False</td>\n",
       "      <td>761140</td>\n",
       "      <td>Kotoshiro</td>\n",
       "      <td>NaN</td>\n",
       "      <td>NaN</td>\n",
       "    </tr>\n",
       "  </tbody>\n",
       "</table>\n",
       "</div>"
      ],
      "text/plain": [
       "   publisher  genres             app_name                title   \n",
       "0  Kotoshiro  Action  Lost Summoner Kitty  Lost Summoner Kitty  \\\n",
       "0  Kotoshiro  Casual  Lost Summoner Kitty  Lost Summoner Kitty   \n",
       "\n",
       "                                                 url release_date   \n",
       "0  http://store.steampowered.com/app/761140/Lost_...   2018-01-04  \\\n",
       "0  http://store.steampowered.com/app/761140/Lost_...   2018-01-04   \n",
       "\n",
       "                                            tags  discount_price   \n",
       "0  [Strategy, Action, Indie, Casual, Simulation]            4.49  \\\n",
       "0  [Strategy, Action, Indie, Casual, Simulation]            4.49   \n",
       "\n",
       "                                         reviews_url            specs price   \n",
       "0  http://steamcommunity.com/app/761140/reviews/?...  [Single-player]  4.99  \\\n",
       "0  http://steamcommunity.com/app/761140/reviews/?...  [Single-player]  4.99   \n",
       "\n",
       "   early_access      id  developer sentiment metascore  \n",
       "0         False  761140  Kotoshiro       NaN       NaN  \n",
       "0         False  761140  Kotoshiro       NaN       NaN  "
      ]
     },
     "execution_count": 9,
     "metadata": {},
     "output_type": "execute_result"
    }
   ],
   "source": [
    "df_expandido.head(2)"
   ]
  },
  {
   "cell_type": "code",
   "execution_count": 6,
   "metadata": {},
   "outputs": [],
   "source": [
    "df_expandido2 = df_expandido.explode('tags')"
   ]
  },
  {
   "cell_type": "code",
   "execution_count": 11,
   "metadata": {},
   "outputs": [
    {
     "data": {
      "text/html": [
       "<div>\n",
       "<style scoped>\n",
       "    .dataframe tbody tr th:only-of-type {\n",
       "        vertical-align: middle;\n",
       "    }\n",
       "\n",
       "    .dataframe tbody tr th {\n",
       "        vertical-align: top;\n",
       "    }\n",
       "\n",
       "    .dataframe thead th {\n",
       "        text-align: right;\n",
       "    }\n",
       "</style>\n",
       "<table border=\"1\" class=\"dataframe\">\n",
       "  <thead>\n",
       "    <tr style=\"text-align: right;\">\n",
       "      <th></th>\n",
       "      <th>publisher</th>\n",
       "      <th>genres</th>\n",
       "      <th>app_name</th>\n",
       "      <th>title</th>\n",
       "      <th>url</th>\n",
       "      <th>release_date</th>\n",
       "      <th>tags</th>\n",
       "      <th>discount_price</th>\n",
       "      <th>reviews_url</th>\n",
       "      <th>specs</th>\n",
       "      <th>price</th>\n",
       "      <th>early_access</th>\n",
       "      <th>id</th>\n",
       "      <th>developer</th>\n",
       "      <th>sentiment</th>\n",
       "      <th>metascore</th>\n",
       "    </tr>\n",
       "  </thead>\n",
       "  <tbody>\n",
       "    <tr>\n",
       "      <th>0</th>\n",
       "      <td>Kotoshiro</td>\n",
       "      <td>Action</td>\n",
       "      <td>Lost Summoner Kitty</td>\n",
       "      <td>Lost Summoner Kitty</td>\n",
       "      <td>http://store.steampowered.com/app/761140/Lost_...</td>\n",
       "      <td>2018-01-04</td>\n",
       "      <td>Strategy</td>\n",
       "      <td>4.49</td>\n",
       "      <td>http://steamcommunity.com/app/761140/reviews/?...</td>\n",
       "      <td>[Single-player]</td>\n",
       "      <td>4.99</td>\n",
       "      <td>False</td>\n",
       "      <td>761140</td>\n",
       "      <td>Kotoshiro</td>\n",
       "      <td>NaN</td>\n",
       "      <td>NaN</td>\n",
       "    </tr>\n",
       "    <tr>\n",
       "      <th>0</th>\n",
       "      <td>Kotoshiro</td>\n",
       "      <td>Action</td>\n",
       "      <td>Lost Summoner Kitty</td>\n",
       "      <td>Lost Summoner Kitty</td>\n",
       "      <td>http://store.steampowered.com/app/761140/Lost_...</td>\n",
       "      <td>2018-01-04</td>\n",
       "      <td>Action</td>\n",
       "      <td>4.49</td>\n",
       "      <td>http://steamcommunity.com/app/761140/reviews/?...</td>\n",
       "      <td>[Single-player]</td>\n",
       "      <td>4.99</td>\n",
       "      <td>False</td>\n",
       "      <td>761140</td>\n",
       "      <td>Kotoshiro</td>\n",
       "      <td>NaN</td>\n",
       "      <td>NaN</td>\n",
       "    </tr>\n",
       "  </tbody>\n",
       "</table>\n",
       "</div>"
      ],
      "text/plain": [
       "   publisher  genres             app_name                title   \n",
       "0  Kotoshiro  Action  Lost Summoner Kitty  Lost Summoner Kitty  \\\n",
       "0  Kotoshiro  Action  Lost Summoner Kitty  Lost Summoner Kitty   \n",
       "\n",
       "                                                 url release_date      tags   \n",
       "0  http://store.steampowered.com/app/761140/Lost_...   2018-01-04  Strategy  \\\n",
       "0  http://store.steampowered.com/app/761140/Lost_...   2018-01-04    Action   \n",
       "\n",
       "   discount_price                                        reviews_url   \n",
       "0            4.49  http://steamcommunity.com/app/761140/reviews/?...  \\\n",
       "0            4.49  http://steamcommunity.com/app/761140/reviews/?...   \n",
       "\n",
       "             specs price  early_access      id  developer sentiment metascore  \n",
       "0  [Single-player]  4.99         False  761140  Kotoshiro       NaN       NaN  \n",
       "0  [Single-player]  4.99         False  761140  Kotoshiro       NaN       NaN  "
      ]
     },
     "execution_count": 11,
     "metadata": {},
     "output_type": "execute_result"
    }
   ],
   "source": [
    "df_expandido2.head(2)"
   ]
  },
  {
   "cell_type": "code",
   "execution_count": 7,
   "metadata": {},
   "outputs": [],
   "source": [
    "df_expandido3 = df_expandido2.explode('specs')"
   ]
  },
  {
   "cell_type": "code",
   "execution_count": 13,
   "metadata": {},
   "outputs": [
    {
     "data": {
      "text/html": [
       "<div>\n",
       "<style scoped>\n",
       "    .dataframe tbody tr th:only-of-type {\n",
       "        vertical-align: middle;\n",
       "    }\n",
       "\n",
       "    .dataframe tbody tr th {\n",
       "        vertical-align: top;\n",
       "    }\n",
       "\n",
       "    .dataframe thead th {\n",
       "        text-align: right;\n",
       "    }\n",
       "</style>\n",
       "<table border=\"1\" class=\"dataframe\">\n",
       "  <thead>\n",
       "    <tr style=\"text-align: right;\">\n",
       "      <th></th>\n",
       "      <th>publisher</th>\n",
       "      <th>genres</th>\n",
       "      <th>app_name</th>\n",
       "      <th>title</th>\n",
       "      <th>url</th>\n",
       "      <th>release_date</th>\n",
       "      <th>tags</th>\n",
       "      <th>discount_price</th>\n",
       "      <th>reviews_url</th>\n",
       "      <th>specs</th>\n",
       "      <th>price</th>\n",
       "      <th>early_access</th>\n",
       "      <th>id</th>\n",
       "      <th>developer</th>\n",
       "      <th>sentiment</th>\n",
       "      <th>metascore</th>\n",
       "    </tr>\n",
       "  </thead>\n",
       "  <tbody>\n",
       "    <tr>\n",
       "      <th>0</th>\n",
       "      <td>Kotoshiro</td>\n",
       "      <td>Action</td>\n",
       "      <td>Lost Summoner Kitty</td>\n",
       "      <td>Lost Summoner Kitty</td>\n",
       "      <td>http://store.steampowered.com/app/761140/Lost_...</td>\n",
       "      <td>2018-01-04</td>\n",
       "      <td>Strategy</td>\n",
       "      <td>4.49</td>\n",
       "      <td>http://steamcommunity.com/app/761140/reviews/?...</td>\n",
       "      <td>Single-player</td>\n",
       "      <td>4.99</td>\n",
       "      <td>False</td>\n",
       "      <td>761140</td>\n",
       "      <td>Kotoshiro</td>\n",
       "      <td>NaN</td>\n",
       "      <td>NaN</td>\n",
       "    </tr>\n",
       "    <tr>\n",
       "      <th>0</th>\n",
       "      <td>Kotoshiro</td>\n",
       "      <td>Action</td>\n",
       "      <td>Lost Summoner Kitty</td>\n",
       "      <td>Lost Summoner Kitty</td>\n",
       "      <td>http://store.steampowered.com/app/761140/Lost_...</td>\n",
       "      <td>2018-01-04</td>\n",
       "      <td>Action</td>\n",
       "      <td>4.49</td>\n",
       "      <td>http://steamcommunity.com/app/761140/reviews/?...</td>\n",
       "      <td>Single-player</td>\n",
       "      <td>4.99</td>\n",
       "      <td>False</td>\n",
       "      <td>761140</td>\n",
       "      <td>Kotoshiro</td>\n",
       "      <td>NaN</td>\n",
       "      <td>NaN</td>\n",
       "    </tr>\n",
       "  </tbody>\n",
       "</table>\n",
       "</div>"
      ],
      "text/plain": [
       "   publisher  genres             app_name                title   \n",
       "0  Kotoshiro  Action  Lost Summoner Kitty  Lost Summoner Kitty  \\\n",
       "0  Kotoshiro  Action  Lost Summoner Kitty  Lost Summoner Kitty   \n",
       "\n",
       "                                                 url release_date      tags   \n",
       "0  http://store.steampowered.com/app/761140/Lost_...   2018-01-04  Strategy  \\\n",
       "0  http://store.steampowered.com/app/761140/Lost_...   2018-01-04    Action   \n",
       "\n",
       "   discount_price                                        reviews_url   \n",
       "0            4.49  http://steamcommunity.com/app/761140/reviews/?...  \\\n",
       "0            4.49  http://steamcommunity.com/app/761140/reviews/?...   \n",
       "\n",
       "           specs price  early_access      id  developer sentiment metascore  \n",
       "0  Single-player  4.99         False  761140  Kotoshiro       NaN       NaN  \n",
       "0  Single-player  4.99         False  761140  Kotoshiro       NaN       NaN  "
      ]
     },
     "execution_count": 13,
     "metadata": {},
     "output_type": "execute_result"
    }
   ],
   "source": [
    "df_expandido3.head(2)"
   ]
  },
  {
   "cell_type": "code",
   "execution_count": 14,
   "metadata": {},
   "outputs": [
    {
     "name": "stdout",
     "output_type": "stream",
     "text": [
      "<class 'pandas.core.frame.DataFrame'>\n",
      "Index: 2088826 entries, 0 to 32134\n",
      "Data columns (total 16 columns):\n",
      " #   Column          Dtype  \n",
      "---  ------          -----  \n",
      " 0   publisher       object \n",
      " 1   genres          object \n",
      " 2   app_name        object \n",
      " 3   title           object \n",
      " 4   url             object \n",
      " 5   release_date    object \n",
      " 6   tags            object \n",
      " 7   discount_price  float64\n",
      " 8   reviews_url     object \n",
      " 9   specs           object \n",
      " 10  price           object \n",
      " 11  early_access    bool   \n",
      " 12  id              object \n",
      " 13  developer       object \n",
      " 14  sentiment       object \n",
      " 15  metascore       object \n",
      "dtypes: bool(1), float64(1), object(14)\n",
      "memory usage: 257.0+ MB\n"
     ]
    }
   ],
   "source": [
    "df_expandido3.info()"
   ]
  },
  {
   "cell_type": "code",
   "execution_count": 8,
   "metadata": {},
   "outputs": [],
   "source": [
    "def sep_fecha(cadena:str):\n",
    "    if len(cadena) != 10:\n",
    "        return int(-1),int(-1),int(-1)\n",
    "    else:\n",
    "        ano = cadena[0:4]\n",
    "        mes = cadena[5:7]\n",
    "        dia = cadena[8:10]\n",
    "        if ano.isnumeric() and mes.isnumeric() and dia.isnumeric:\n",
    "            return int(ano), int(mes), int(dia) \n",
    "        else:\n",
    "            return int(-1),int(-1),int(-1)\n",
    "\n",
    "def año(cadena):\n",
    "    ano, mes, dia = sep_fecha(cadena)\n",
    "    return int(ano)\n",
    "\n",
    "def mes(cadena):\n",
    "    ano, mes, dia = sep_fecha(cadena)\n",
    "    return int(mes)\n",
    "\n",
    "def dia(cadena):\n",
    "    ano, mes, dia = sep_fecha(cadena)\n",
    "    return int(dia)\n",
    "    "
   ]
  },
  {
   "cell_type": "code",
   "execution_count": 16,
   "metadata": {},
   "outputs": [
    {
     "data": {
      "text/plain": [
       "-2"
      ]
     },
     "execution_count": 16,
     "metadata": {},
     "output_type": "execute_result"
    }
   ],
   "source": [
    "año(\"203-10-12\")*2"
   ]
  },
  {
   "cell_type": "markdown",
   "metadata": {},
   "source": [
    "DEL ARCHIV FUENTE, TOMAMOS LA COLUMNA CON FECHA DE LIBERACION Y REALIZAMOS DOS COSAS:\n",
    "1.- NO SE ALTERA EL VALOR FUENTE, SE CREAN TRES COLUMNAS ADICIONALES PARA GUARDAR EL AÑO, EL MES Y EL DIA.\n",
    "2.- SI EL VALOR FUENTE DE FECHA CONTIENE VALORES IRREGULARES, SIMPLEMENTE SE ASIGNA -1 A LOS VALORES DE AÑO, MES O DIA QUE CORRESPONDA."
   ]
  },
  {
   "cell_type": "code",
   "execution_count": 9,
   "metadata": {},
   "outputs": [],
   "source": [
    "df_expandido3[\"año\"] = df_expandido3[\"release_date\"].apply(lambda x:año(str(x)) if True else -1 )"
   ]
  },
  {
   "cell_type": "code",
   "execution_count": 10,
   "metadata": {},
   "outputs": [],
   "source": [
    "df_expandido3[\"mes\"] = df_expandido3[\"release_date\"].apply(lambda x:mes(str(x)) if True else -1 )"
   ]
  },
  {
   "cell_type": "code",
   "execution_count": 11,
   "metadata": {},
   "outputs": [],
   "source": [
    "df_expandido3[\"dia\"] = df_expandido3[\"release_date\"].apply(lambda x:dia(str(x)) if True else -1 )"
   ]
  },
  {
   "cell_type": "code",
   "execution_count": 20,
   "metadata": {},
   "outputs": [
    {
     "data": {
      "text/html": [
       "<div>\n",
       "<style scoped>\n",
       "    .dataframe tbody tr th:only-of-type {\n",
       "        vertical-align: middle;\n",
       "    }\n",
       "\n",
       "    .dataframe tbody tr th {\n",
       "        vertical-align: top;\n",
       "    }\n",
       "\n",
       "    .dataframe thead th {\n",
       "        text-align: right;\n",
       "    }\n",
       "</style>\n",
       "<table border=\"1\" class=\"dataframe\">\n",
       "  <thead>\n",
       "    <tr style=\"text-align: right;\">\n",
       "      <th></th>\n",
       "      <th>publisher</th>\n",
       "      <th>genres</th>\n",
       "      <th>app_name</th>\n",
       "      <th>title</th>\n",
       "      <th>url</th>\n",
       "      <th>release_date</th>\n",
       "      <th>tags</th>\n",
       "      <th>discount_price</th>\n",
       "      <th>reviews_url</th>\n",
       "      <th>specs</th>\n",
       "      <th>price</th>\n",
       "      <th>early_access</th>\n",
       "      <th>id</th>\n",
       "      <th>developer</th>\n",
       "      <th>sentiment</th>\n",
       "      <th>metascore</th>\n",
       "      <th>año</th>\n",
       "      <th>mes</th>\n",
       "      <th>dia</th>\n",
       "    </tr>\n",
       "  </thead>\n",
       "  <tbody>\n",
       "    <tr>\n",
       "      <th>4</th>\n",
       "      <td>NaN</td>\n",
       "      <td>NaN</td>\n",
       "      <td>Log Challenge</td>\n",
       "      <td>NaN</td>\n",
       "      <td>http://store.steampowered.com/app/773570/Log_C...</td>\n",
       "      <td>NaN</td>\n",
       "      <td>Action</td>\n",
       "      <td>1.79</td>\n",
       "      <td>http://steamcommunity.com/app/773570/reviews/?...</td>\n",
       "      <td>Single-player</td>\n",
       "      <td>2.99</td>\n",
       "      <td>False</td>\n",
       "      <td>773570</td>\n",
       "      <td>NaN</td>\n",
       "      <td>NaN</td>\n",
       "      <td>NaN</td>\n",
       "      <td>-1</td>\n",
       "      <td>-1</td>\n",
       "      <td>-1</td>\n",
       "    </tr>\n",
       "    <tr>\n",
       "      <th>4</th>\n",
       "      <td>NaN</td>\n",
       "      <td>NaN</td>\n",
       "      <td>Log Challenge</td>\n",
       "      <td>NaN</td>\n",
       "      <td>http://store.steampowered.com/app/773570/Log_C...</td>\n",
       "      <td>NaN</td>\n",
       "      <td>Action</td>\n",
       "      <td>1.79</td>\n",
       "      <td>http://steamcommunity.com/app/773570/reviews/?...</td>\n",
       "      <td>Full controller support</td>\n",
       "      <td>2.99</td>\n",
       "      <td>False</td>\n",
       "      <td>773570</td>\n",
       "      <td>NaN</td>\n",
       "      <td>NaN</td>\n",
       "      <td>NaN</td>\n",
       "      <td>-1</td>\n",
       "      <td>-1</td>\n",
       "      <td>-1</td>\n",
       "    </tr>\n",
       "  </tbody>\n",
       "</table>\n",
       "</div>"
      ],
      "text/plain": [
       "  publisher genres       app_name title   \n",
       "4       NaN    NaN  Log Challenge   NaN  \\\n",
       "4       NaN    NaN  Log Challenge   NaN   \n",
       "\n",
       "                                                 url release_date    tags   \n",
       "4  http://store.steampowered.com/app/773570/Log_C...          NaN  Action  \\\n",
       "4  http://store.steampowered.com/app/773570/Log_C...          NaN  Action   \n",
       "\n",
       "   discount_price                                        reviews_url   \n",
       "4            1.79  http://steamcommunity.com/app/773570/reviews/?...  \\\n",
       "4            1.79  http://steamcommunity.com/app/773570/reviews/?...   \n",
       "\n",
       "                     specs price  early_access      id developer sentiment   \n",
       "4            Single-player  2.99         False  773570       NaN       NaN  \\\n",
       "4  Full controller support  2.99         False  773570       NaN       NaN   \n",
       "\n",
       "  metascore  año  mes  dia  \n",
       "4       NaN   -1   -1   -1  \n",
       "4       NaN   -1   -1   -1  "
      ]
     },
     "execution_count": 20,
     "metadata": {},
     "output_type": "execute_result"
    }
   ],
   "source": [
    "df_expandido3[df_expandido3[\"dia\"] == -1 ].head(2)"
   ]
  },
  {
   "cell_type": "markdown",
   "metadata": {},
   "source": [
    "['Free To Play', 'Play WARMACHINE: Tactics Demo', 'Install Now', 'Install Theme','Free HITMAN™ Holiday Pack','Free Demo', 'Play for Free!','Free Mod',\n",
    "'Third-party','Play Now','Play the Demo','Starting at $499.00','Starting at $449.00','Free to Try','Free Movie','Free to Use']"
   ]
  },
  {
   "cell_type": "code",
   "execution_count": 18,
   "metadata": {},
   "outputs": [],
   "source": [
    "#df_expandido3 = df_expandido3.drop('precio_1', axis=1)"
   ]
  },
  {
   "cell_type": "code",
   "execution_count": 12,
   "metadata": {},
   "outputs": [],
   "source": [
    "def rev_precio(x:str):\n",
    "\n",
    "    try:\n",
    "        return float(x)\n",
    "        \n",
    "    except ValueError:\n",
    "        return float(-1.0)\n",
    "    "
   ]
  },
  {
   "cell_type": "code",
   "execution_count": 22,
   "metadata": {},
   "outputs": [
    {
     "data": {
      "text/plain": [
       "-1.0"
      ]
     },
     "execution_count": 22,
     "metadata": {},
     "output_type": "execute_result"
    }
   ],
   "source": [
    "rev_precio(\"hoga 8\")"
   ]
  },
  {
   "cell_type": "markdown",
   "metadata": {},
   "source": [
    "SE HACE UN ANALISIS DE LA COLUMNA PRICE CON EL FIN DE DESCARTAR VALORES NO NUMERICOS, SIN EMBARGO, SE CREA OTRA COLUMNA Y EN AQUELLOS POR CADA VALOR IRREGULAR, SE ASIGNA -1 EN EL VALOR DE LA NUEVA COLUMNA."
   ]
  },
  {
   "cell_type": "code",
   "execution_count": 13,
   "metadata": {},
   "outputs": [],
   "source": [
    "var = \"price\"\n",
    "df_expandido3[\"precio_1\"] = df_expandido3[var].apply(lambda x:rev_precio(str(x)) if True else float(-1.0))"
   ]
  },
  {
   "cell_type": "code",
   "execution_count": 27,
   "metadata": {},
   "outputs": [
    {
     "data": {
      "text/html": [
       "<div>\n",
       "<style scoped>\n",
       "    .dataframe tbody tr th:only-of-type {\n",
       "        vertical-align: middle;\n",
       "    }\n",
       "\n",
       "    .dataframe tbody tr th {\n",
       "        vertical-align: top;\n",
       "    }\n",
       "\n",
       "    .dataframe thead th {\n",
       "        text-align: right;\n",
       "    }\n",
       "</style>\n",
       "<table border=\"1\" class=\"dataframe\">\n",
       "  <thead>\n",
       "    <tr style=\"text-align: right;\">\n",
       "      <th></th>\n",
       "      <th>publisher</th>\n",
       "      <th>genres</th>\n",
       "      <th>app_name</th>\n",
       "      <th>title</th>\n",
       "      <th>url</th>\n",
       "      <th>release_date</th>\n",
       "      <th>tags</th>\n",
       "      <th>discount_price</th>\n",
       "      <th>reviews_url</th>\n",
       "      <th>specs</th>\n",
       "      <th>price</th>\n",
       "      <th>early_access</th>\n",
       "      <th>id</th>\n",
       "      <th>developer</th>\n",
       "      <th>sentiment</th>\n",
       "      <th>metascore</th>\n",
       "      <th>año</th>\n",
       "      <th>mes</th>\n",
       "      <th>dia</th>\n",
       "      <th>precio_1</th>\n",
       "    </tr>\n",
       "  </thead>\n",
       "  <tbody>\n",
       "    <tr>\n",
       "      <th>74</th>\n",
       "      <td>NaN</td>\n",
       "      <td>NaN</td>\n",
       "      <td>NaN</td>\n",
       "      <td>NaN</td>\n",
       "      <td>http://store.steampowered.com/</td>\n",
       "      <td>NaN</td>\n",
       "      <td>NaN</td>\n",
       "      <td>14.99</td>\n",
       "      <td>NaN</td>\n",
       "      <td>NaN</td>\n",
       "      <td>19.99</td>\n",
       "      <td>False</td>\n",
       "      <td>NaN</td>\n",
       "      <td>NaN</td>\n",
       "      <td>NaN</td>\n",
       "      <td>NaN</td>\n",
       "      <td>-1</td>\n",
       "      <td>-1</td>\n",
       "      <td>-1</td>\n",
       "      <td>19.99</td>\n",
       "    </tr>\n",
       "    <tr>\n",
       "      <th>30961</th>\n",
       "      <td>Warner Bros. Interactive Entertainment, Feral ...</td>\n",
       "      <td>Action</td>\n",
       "      <td>Batman: Arkham City - Game of the Year Edition</td>\n",
       "      <td>Batman: Arkham City - Game of the Year Edition</td>\n",
       "      <td>http://store.steampowered.com/app/200260</td>\n",
       "      <td>2012-09-07</td>\n",
       "      <td>Action</td>\n",
       "      <td>NaN</td>\n",
       "      <td>NaN</td>\n",
       "      <td>Single-player</td>\n",
       "      <td>19.99</td>\n",
       "      <td>False</td>\n",
       "      <td>NaN</td>\n",
       "      <td>Rocksteady Studios,Feral Interactive (Mac)</td>\n",
       "      <td>Overwhelmingly Positive</td>\n",
       "      <td>91</td>\n",
       "      <td>2012</td>\n",
       "      <td>9</td>\n",
       "      <td>7</td>\n",
       "      <td>19.99</td>\n",
       "    </tr>\n",
       "  </tbody>\n",
       "</table>\n",
       "</div>"
      ],
      "text/plain": [
       "                                               publisher  genres   \n",
       "74                                                   NaN     NaN  \\\n",
       "30961  Warner Bros. Interactive Entertainment, Feral ...  Action   \n",
       "\n",
       "                                             app_name   \n",
       "74                                                NaN  \\\n",
       "30961  Batman: Arkham City - Game of the Year Edition   \n",
       "\n",
       "                                                title   \n",
       "74                                                NaN  \\\n",
       "30961  Batman: Arkham City - Game of the Year Edition   \n",
       "\n",
       "                                            url release_date    tags   \n",
       "74               http://store.steampowered.com/          NaN     NaN  \\\n",
       "30961  http://store.steampowered.com/app/200260   2012-09-07  Action   \n",
       "\n",
       "       discount_price reviews_url          specs  price  early_access   id   \n",
       "74              14.99         NaN            NaN  19.99         False  NaN  \\\n",
       "30961             NaN         NaN  Single-player  19.99         False  NaN   \n",
       "\n",
       "                                        developer                sentiment   \n",
       "74                                            NaN                      NaN  \\\n",
       "30961  Rocksteady Studios,Feral Interactive (Mac)  Overwhelmingly Positive   \n",
       "\n",
       "      metascore   año  mes  dia  precio_1  \n",
       "74          NaN    -1   -1   -1     19.99  \n",
       "30961        91  2012    9    7     19.99  "
      ]
     },
     "execution_count": 27,
     "metadata": {},
     "output_type": "execute_result"
    }
   ],
   "source": [
    "#Aun cuando el campo precio pueda tener valores nulos, no se descartaran los registros con esta novedad,\n",
    "# puesto que a efecto de las consultas otros campos pueden aportar valor.\n",
    "var = \"id\"\n",
    "df_expandido3[df_expandido3[var].isna()].head(2)"
   ]
  },
  {
   "cell_type": "code",
   "execution_count": 28,
   "metadata": {},
   "outputs": [
    {
     "data": {
      "text/plain": [
       "array([nan, 'Mostly Positive', 'Mixed', '1 user reviews',\n",
       "       '3 user reviews', '8 user reviews', 'Very Positive',\n",
       "       'Overwhelmingly Positive', '6 user reviews', '5 user reviews',\n",
       "       '2 user reviews', 'Very Negative', 'Positive', 'Mostly Negative',\n",
       "       '9 user reviews', 'Negative', '4 user reviews', '7 user reviews',\n",
       "       'Overwhelmingly Negative'], dtype=object)"
      ]
     },
     "execution_count": 28,
     "metadata": {},
     "output_type": "execute_result"
    }
   ],
   "source": [
    "#Los valores nulos no seran extraidos o modificados, pues mientras puedan simplemente ser obviados en el momento necesario, asi se hara.\n",
    "var = \"sentiment\"\n",
    "df_expandido3[var].unique()\n"
   ]
  },
  {
   "cell_type": "code",
   "execution_count": 29,
   "metadata": {},
   "outputs": [
    {
     "data": {
      "text/plain": [
       "array([nan, 96, 84, 80, 76, 70, 'NA', 69, 81, 75, 72, 66, 67, 77, 91, 89,\n",
       "       83, 61, 88, 65, 94, 57, 86, 87, 92, 79, 82, 58, 74, 85, 90, 68, 71,\n",
       "       60, 73, 59, 64, 54, 53, 78, 51, 44, 63, 38, 56, 49, 52, 62, 93, 48,\n",
       "       34, 95, 43, 55, 24, 46, 41, 20, 39, 45, 35, 47, 40, 36, 50, 32, 37,\n",
       "       33, 42, 27, 29, 30], dtype=object)"
      ]
     },
     "execution_count": 29,
     "metadata": {},
     "output_type": "execute_result"
    }
   ],
   "source": [
    "#Mismo criterio. No modificar valores nulos mientras simpemente puedan estos ser filtrados.\n",
    "var = \"metascore\"\n",
    "df_expandido3[var].unique()\n"
   ]
  },
  {
   "cell_type": "code",
   "execution_count": 30,
   "metadata": {},
   "outputs": [
    {
     "data": {
      "text/html": [
       "<div>\n",
       "<style scoped>\n",
       "    .dataframe tbody tr th:only-of-type {\n",
       "        vertical-align: middle;\n",
       "    }\n",
       "\n",
       "    .dataframe tbody tr th {\n",
       "        vertical-align: top;\n",
       "    }\n",
       "\n",
       "    .dataframe thead th {\n",
       "        text-align: right;\n",
       "    }\n",
       "</style>\n",
       "<table border=\"1\" class=\"dataframe\">\n",
       "  <thead>\n",
       "    <tr style=\"text-align: right;\">\n",
       "      <th></th>\n",
       "      <th>publisher</th>\n",
       "      <th>genres</th>\n",
       "      <th>app_name</th>\n",
       "      <th>title</th>\n",
       "      <th>url</th>\n",
       "      <th>release_date</th>\n",
       "      <th>tags</th>\n",
       "      <th>discount_price</th>\n",
       "      <th>reviews_url</th>\n",
       "      <th>specs</th>\n",
       "      <th>price</th>\n",
       "      <th>early_access</th>\n",
       "      <th>id</th>\n",
       "      <th>developer</th>\n",
       "      <th>sentiment</th>\n",
       "      <th>metascore</th>\n",
       "      <th>año</th>\n",
       "      <th>mes</th>\n",
       "      <th>dia</th>\n",
       "      <th>precio_1</th>\n",
       "    </tr>\n",
       "  </thead>\n",
       "  <tbody>\n",
       "    <tr>\n",
       "      <th>57</th>\n",
       "      <td>Blazing Griffin Ltd.</td>\n",
       "      <td>Action</td>\n",
       "      <td>The Ship: Single Player</td>\n",
       "      <td>The Ship: Single Player</td>\n",
       "      <td>http://store.steampowered.com/app/2420/The_Shi...</td>\n",
       "      <td>2006-11-20</td>\n",
       "      <td>Action</td>\n",
       "      <td>NaN</td>\n",
       "      <td>http://steamcommunity.com/app/2420/reviews/?br...</td>\n",
       "      <td>Single-player</td>\n",
       "      <td>9.99</td>\n",
       "      <td>False</td>\n",
       "      <td>2420</td>\n",
       "      <td>Outerlight Ltd.</td>\n",
       "      <td>Mixed</td>\n",
       "      <td>NA</td>\n",
       "      <td>2006</td>\n",
       "      <td>11</td>\n",
       "      <td>20</td>\n",
       "      <td>9.99</td>\n",
       "    </tr>\n",
       "    <tr>\n",
       "      <th>57</th>\n",
       "      <td>Blazing Griffin Ltd.</td>\n",
       "      <td>Action</td>\n",
       "      <td>The Ship: Single Player</td>\n",
       "      <td>The Ship: Single Player</td>\n",
       "      <td>http://store.steampowered.com/app/2420/The_Shi...</td>\n",
       "      <td>2006-11-20</td>\n",
       "      <td>RPG</td>\n",
       "      <td>NaN</td>\n",
       "      <td>http://steamcommunity.com/app/2420/reviews/?br...</td>\n",
       "      <td>Single-player</td>\n",
       "      <td>9.99</td>\n",
       "      <td>False</td>\n",
       "      <td>2420</td>\n",
       "      <td>Outerlight Ltd.</td>\n",
       "      <td>Mixed</td>\n",
       "      <td>NA</td>\n",
       "      <td>2006</td>\n",
       "      <td>11</td>\n",
       "      <td>20</td>\n",
       "      <td>9.99</td>\n",
       "    </tr>\n",
       "  </tbody>\n",
       "</table>\n",
       "</div>"
      ],
      "text/plain": [
       "               publisher  genres                 app_name   \n",
       "57  Blazing Griffin Ltd.  Action  The Ship: Single Player  \\\n",
       "57  Blazing Griffin Ltd.  Action  The Ship: Single Player   \n",
       "\n",
       "                      title   \n",
       "57  The Ship: Single Player  \\\n",
       "57  The Ship: Single Player   \n",
       "\n",
       "                                                  url release_date    tags   \n",
       "57  http://store.steampowered.com/app/2420/The_Shi...   2006-11-20  Action  \\\n",
       "57  http://store.steampowered.com/app/2420/The_Shi...   2006-11-20     RPG   \n",
       "\n",
       "    discount_price                                        reviews_url   \n",
       "57             NaN  http://steamcommunity.com/app/2420/reviews/?br...  \\\n",
       "57             NaN  http://steamcommunity.com/app/2420/reviews/?br...   \n",
       "\n",
       "            specs price  early_access    id        developer sentiment   \n",
       "57  Single-player  9.99         False  2420  Outerlight Ltd.     Mixed  \\\n",
       "57  Single-player  9.99         False  2420  Outerlight Ltd.     Mixed   \n",
       "\n",
       "   metascore   año  mes  dia  precio_1  \n",
       "57        NA  2006   11   20      9.99  \n",
       "57        NA  2006   11   20      9.99  "
      ]
     },
     "execution_count": 30,
     "metadata": {},
     "output_type": "execute_result"
    }
   ],
   "source": [
    "# Este valor indica NO APLICA, pr tanto podria ser util.\n",
    "var = \"metascore\"\n",
    "df_expandido3[df_expandido3[var] == \"NA\"].head(2)"
   ]
  },
  {
   "cell_type": "code",
   "execution_count": 31,
   "metadata": {},
   "outputs": [
    {
     "data": {
      "text/html": [
       "<div>\n",
       "<style scoped>\n",
       "    .dataframe tbody tr th:only-of-type {\n",
       "        vertical-align: middle;\n",
       "    }\n",
       "\n",
       "    .dataframe tbody tr th {\n",
       "        vertical-align: top;\n",
       "    }\n",
       "\n",
       "    .dataframe thead th {\n",
       "        text-align: right;\n",
       "    }\n",
       "</style>\n",
       "<table border=\"1\" class=\"dataframe\">\n",
       "  <thead>\n",
       "    <tr style=\"text-align: right;\">\n",
       "      <th></th>\n",
       "      <th>discount_price</th>\n",
       "      <th>año</th>\n",
       "      <th>mes</th>\n",
       "      <th>dia</th>\n",
       "      <th>precio_1</th>\n",
       "    </tr>\n",
       "  </thead>\n",
       "  <tbody>\n",
       "    <tr>\n",
       "      <th>count</th>\n",
       "      <td>20797.000000</td>\n",
       "      <td>2.088826e+06</td>\n",
       "      <td>2.088826e+06</td>\n",
       "      <td>2.088826e+06</td>\n",
       "      <td>2.020050e+06</td>\n",
       "    </tr>\n",
       "    <tr>\n",
       "      <th>mean</th>\n",
       "      <td>8.231103</td>\n",
       "      <td>1.913381e+03</td>\n",
       "      <td>6.546383e+00</td>\n",
       "      <td>1.504226e+01</td>\n",
       "      <td>1.027083e+01</td>\n",
       "    </tr>\n",
       "    <tr>\n",
       "      <th>std</th>\n",
       "      <td>13.027376</td>\n",
       "      <td>4.416017e+02</td>\n",
       "      <td>3.697098e+00</td>\n",
       "      <td>9.327181e+00</td>\n",
       "      <td>1.378244e+01</td>\n",
       "    </tr>\n",
       "    <tr>\n",
       "      <th>min</th>\n",
       "      <td>0.490000</td>\n",
       "      <td>-1.000000e+00</td>\n",
       "      <td>-1.000000e+00</td>\n",
       "      <td>-1.000000e+00</td>\n",
       "      <td>-1.000000e+00</td>\n",
       "    </tr>\n",
       "    <tr>\n",
       "      <th>25%</th>\n",
       "      <td>0.690000</td>\n",
       "      <td>2.014000e+03</td>\n",
       "      <td>4.000000e+00</td>\n",
       "      <td>7.000000e+00</td>\n",
       "      <td>2.990000e+00</td>\n",
       "    </tr>\n",
       "    <tr>\n",
       "      <th>50%</th>\n",
       "      <td>2.190000</td>\n",
       "      <td>2.016000e+03</td>\n",
       "      <td>7.000000e+00</td>\n",
       "      <td>1.500000e+01</td>\n",
       "      <td>6.990000e+00</td>\n",
       "    </tr>\n",
       "    <tr>\n",
       "      <th>75%</th>\n",
       "      <td>11.390000</td>\n",
       "      <td>2.017000e+03</td>\n",
       "      <td>1.000000e+01</td>\n",
       "      <td>2.300000e+01</td>\n",
       "      <td>1.499000e+01</td>\n",
       "    </tr>\n",
       "    <tr>\n",
       "      <th>max</th>\n",
       "      <td>139.990000</td>\n",
       "      <td>2.021000e+03</td>\n",
       "      <td>1.200000e+01</td>\n",
       "      <td>3.100000e+01</td>\n",
       "      <td>9.950000e+02</td>\n",
       "    </tr>\n",
       "  </tbody>\n",
       "</table>\n",
       "</div>"
      ],
      "text/plain": [
       "       discount_price           año           mes           dia      precio_1\n",
       "count    20797.000000  2.088826e+06  2.088826e+06  2.088826e+06  2.020050e+06\n",
       "mean         8.231103  1.913381e+03  6.546383e+00  1.504226e+01  1.027083e+01\n",
       "std         13.027376  4.416017e+02  3.697098e+00  9.327181e+00  1.378244e+01\n",
       "min          0.490000 -1.000000e+00 -1.000000e+00 -1.000000e+00 -1.000000e+00\n",
       "25%          0.690000  2.014000e+03  4.000000e+00  7.000000e+00  2.990000e+00\n",
       "50%          2.190000  2.016000e+03  7.000000e+00  1.500000e+01  6.990000e+00\n",
       "75%         11.390000  2.017000e+03  1.000000e+01  2.300000e+01  1.499000e+01\n",
       "max        139.990000  2.021000e+03  1.200000e+01  3.100000e+01  9.950000e+02"
      ]
     },
     "execution_count": 31,
     "metadata": {},
     "output_type": "execute_result"
    }
   ],
   "source": [
    "df_expandido3.describe()"
   ]
  },
  {
   "cell_type": "markdown",
   "metadata": {},
   "source": [
    "ANALISIS DEL CAMPO \"title\" A FIN DE DECIDIR SI UTILIZAR \"APP_NAME\"."
   ]
  },
  {
   "cell_type": "code",
   "execution_count": 14,
   "metadata": {},
   "outputs": [],
   "source": [
    "#Al contrastar el conjunto de valores en \"title\" y el conjunto de valores en \"app_name\" nos dimos cuent que el subconunto de \"app_name\" es menor.\n",
    "# Por tanto se decidio simplemente completar al conjunto \"title\" con valores de \"app_name\"  a fin de utilizar solo la columna \"title\"\n",
    "indices = df_expandido3[[\"title\",\"app_name\"]][df_expandido3[\"title\"].isna() & df_expandido3[\"app_name\"].notna()].index.unique()"
   ]
  },
  {
   "cell_type": "code",
   "execution_count": 15,
   "metadata": {},
   "outputs": [
    {
     "name": "stderr",
     "output_type": "stream",
     "text": [
      "C:\\Users\\Elio Padilla\\AppData\\Local\\Temp\\ipykernel_14708\\2261107855.py:2: SettingWithCopyWarning: \n",
      "A value is trying to be set on a copy of a slice from a DataFrame.\n",
      "Try using .loc[row_indexer,col_indexer] = value instead\n",
      "\n",
      "See the caveats in the documentation: https://pandas.pydata.org/pandas-docs/stable/user_guide/indexing.html#returning-a-view-versus-a-copy\n",
      "  df_expandido3.loc[valor][\"title\"] = df_expandido3.loc[valor][\"app_name\"]\n"
     ]
    }
   ],
   "source": [
    "for i, valor in enumerate(indices):\n",
    "    df_expandido3.loc[valor][\"title\"] = df_expandido3.loc[valor][\"app_name\"]"
   ]
  },
  {
   "cell_type": "code",
   "execution_count": 16,
   "metadata": {},
   "outputs": [
    {
     "data": {
      "text/plain": [
       "Index([], dtype='int64')"
      ]
     },
     "execution_count": 16,
     "metadata": {},
     "output_type": "execute_result"
    }
   ],
   "source": [
    "# Se valido el contraste contrario, es decir, app_name contra title, y la respuesta fue \"vacio\", por tanto no es neceario realizar la asignacion invertida.\n",
    "df_expandido3[[\"title\",\"app_name\"]][df_expandido3[\"title\"].notna() & df_expandido3[\"app_name\"].isna()].index.unique()"
   ]
  },
  {
   "cell_type": "code",
   "execution_count": 19,
   "metadata": {},
   "outputs": [
    {
     "data": {
      "text/plain": [
       "Index(['publisher', 'genres', 'app_name', 'title', 'url', 'release_date',\n",
       "       'tags', 'discount_price', 'reviews_url', 'specs', 'price',\n",
       "       'early_access', 'id', 'developer', 'sentiment', 'metascore', 'año',\n",
       "       'mes', 'dia', 'precio_1'],\n",
       "      dtype='object')"
      ]
     },
     "execution_count": 19,
     "metadata": {},
     "output_type": "execute_result"
    }
   ],
   "source": [
    "df_expandido3.columns"
   ]
  },
  {
   "cell_type": "markdown",
   "metadata": {},
   "source": [
    "SELECCION DE COLUMNAS A EFECTOS DE GENERAR UN ARCHIVO GENERAL CON DATOS TRABAJADOS.\n",
    "['publisher', 'genres','tags', 'title', 'specs','early_access', 'id', 'sentiment', 'metascore', 'año','precio_1']"
   ]
  },
  {
   "cell_type": "code",
   "execution_count": 20,
   "metadata": {},
   "outputs": [],
   "source": [
    "df_expandidos3_reducido = df_expandido3[['id','publisher', 'genres','tags', 'title', 'specs','early_access', 'sentiment', 'metascore', 'año','precio_1']]"
   ]
  },
  {
   "cell_type": "code",
   "execution_count": 21,
   "metadata": {},
   "outputs": [
    {
     "data": {
      "text/plain": [
       "Index(['id', 'publisher', 'genres', 'tags', 'title', 'specs', 'early_access',\n",
       "       'sentiment', 'metascore', 'año', 'precio_1'],\n",
       "      dtype='object')"
      ]
     },
     "execution_count": 21,
     "metadata": {},
     "output_type": "execute_result"
    }
   ],
   "source": [
    "df_expandidos3_reducido.columns"
   ]
  },
  {
   "cell_type": "code",
   "execution_count": 22,
   "metadata": {},
   "outputs": [],
   "source": [
    "df_expandidos3_reducido = df_expandidos3_reducido.drop_duplicates()"
   ]
  },
  {
   "cell_type": "code",
   "execution_count": 23,
   "metadata": {},
   "outputs": [],
   "source": [
    "df_expandidos3_reducido.to_csv('stems_games_expandido.csv')"
   ]
  },
  {
   "cell_type": "markdown",
   "metadata": {},
   "source": [
    "GENERACION DE ARCHIVO FUENTE YA PREPARADO PARA CONSUMO DE LA FUNCION DE GENEROS."
   ]
  },
  {
   "cell_type": "code",
   "execution_count": 19,
   "metadata": {},
   "outputs": [],
   "source": [
    "df_func_genero = df_expandido3[df_expandido3[\"año\"] != -1][['id','año','genres']] #Garantizamos la existencia de un valor año\n",
    "df_func_genero = df_func_genero[df_func_genero[\"genres\"].notna()] #No haremos uso de valores nan por tanto lo restringimos\n",
    "df_func_genero = df_func_genero.drop_duplicates() # Si exostiesen duplicados de registros, lo excluimos puesto que no agregan valor\n",
    "df_func_genero.to_csv(\"func_genero.csv\") # Gneramos un archivo reducido que es util para la consulta de genro del juego"
   ]
  },
  {
   "cell_type": "markdown",
   "metadata": {},
   "source": [
    "GENERACION DE ARCHIVO FUENTE YA PREPARADO PARA CONSUMO DE LA FUNCION DE JUEGOS."
   ]
  },
  {
   "cell_type": "code",
   "execution_count": 20,
   "metadata": {},
   "outputs": [],
   "source": [
    "df_func_juego = df_expandido3[df_expandido3[\"año\"] != -1][['id','año','title']] #Garantizamos la existencia de un valor año\n",
    "df_func_juego = df_func_juego[df_func_juego[\"title\"].notna()] #No haremos uso de valores nan por tanto lo restringimos\n",
    "df_func_juego = df_func_juego.drop_duplicates() # Si exostiesen duplicados de registros, lo excluimos puesto que no agregan valor\n",
    "df_func_juego.to_csv(\"func_juego.csv\") # Gneramos un archivo reducido que es util para la consulta relacionada a juegos"
   ]
  },
  {
   "cell_type": "markdown",
   "metadata": {},
   "source": [
    "GENERACION DE ARCHIVO FUENTE YA PREPARADO PARA CONSUMO DE LA FUNCION DE ESPECIFICACIONES"
   ]
  },
  {
   "cell_type": "code",
   "execution_count": 21,
   "metadata": {},
   "outputs": [],
   "source": [
    "df_func_specs = df_expandido3[df_expandido3[\"año\"] != -1][['id','año','specs']] #Garantizamos la existencia de un valor año\n",
    "df_func_specs = df_func_specs[df_func_specs[\"specs\"].notna()] #No haremos uso de valores nan por tanto lo restringimos\n",
    "df_func_specs = df_func_specs.drop_duplicates() # Si exostiesen duplicados de registros, lo excluimos puesto que no agregan valor\n",
    "df_func_specs.to_csv(\"func_specs.csv\") # Gneramos un archivo reducido que es util para la consulta relacionada a las especificaciones de juegos"
   ]
  },
  {
   "cell_type": "markdown",
   "metadata": {},
   "source": [
    "GENERACION DE ARCHIVO FUENTE YA PREPARADO PARA CONSUMO DE LA FUNCION DE EARLYACCESS"
   ]
  },
  {
   "cell_type": "code",
   "execution_count": 22,
   "metadata": {},
   "outputs": [],
   "source": [
    "df_func_early = df_expandido3[df_expandido3[\"año\"] != -1][['id','año','early_access']] #Garantizamos la existencia de un valor año\n",
    "df_func_early = df_func_early[df_func_early[\"early_access\"].notna()] #No haremos uso de valores nan por tanto lo restringimos\n",
    "df_func_early = df_func_early.drop_duplicates() # Si exostiesen duplicados de registros, lo excluimos puesto que no agregan valor\n",
    "df_func_early.to_csv(\"func_early.csv\") # Gneramos un archivo reducido que es util para la consulta relacionada al lanzamiento temprano de juegos"
   ]
  },
  {
   "cell_type": "markdown",
   "metadata": {},
   "source": [
    "GENERACION DE ARCHIVO FUENTE YA PREPARADO PARA CONSUMO DE LA FUNCION DE SENTIMENT"
   ]
  },
  {
   "cell_type": "code",
   "execution_count": 23,
   "metadata": {},
   "outputs": [],
   "source": [
    "df_func_sentiment = df_expandido3[df_expandido3[\"año\"] != -1][['id','año','sentiment']] #Garantizamos la existencia de un valor año\n",
    "df_func_sentiment = df_func_sentiment[df_func_sentiment[\"sentiment\"].notna()] #No haremos uso de valores nan por tanto lo restringimos\n",
    "df_func_sentiment = df_func_sentiment.drop_duplicates() # Si exostiesen duplicados de registros, lo excluimos puesto que no agregan valor\n",
    "df_func_sentiment.to_csv(\"func_sentiment.csv\") # Gneramos un archivo reducido que es util para la consulta relacionada a los sentimientos expuestos de juegos."
   ]
  },
  {
   "cell_type": "markdown",
   "metadata": {},
   "source": [
    "GENERACION DE ARCHIVO FUENTE YA PREPARADO PARA CONSUMO DE LA FUNCION DE METSCORE"
   ]
  },
  {
   "cell_type": "code",
   "execution_count": 24,
   "metadata": {},
   "outputs": [],
   "source": [
    "df_func_metascore = df_expandido3[df_expandido3[\"año\"] != -1][['id','año','metascore',\"title\"]] #Garantizamos la existencia de un valor año\n",
    "df_func_metascore = df_func_metascore[df_func_metascore[\"metascore\"].notna()] #No haremos uso de valores nan por tanto lo restringimos\n",
    "df_func_metascore = df_func_metascore[df_func_metascore[\"title\"].notna()] # No nos interesa tampoco titulos nulos puesto que pretendemos asociar la respuesta de la consulta a este valor\n",
    "df_func_metascore = df_func_metascore.drop_duplicates() # Si exostiesen duplicados de registros, lo excluimos puesto que no agregan valor\n",
    "df_func_metascore.to_csv(\"func_metascore.csv\") # Gneramos un archivo reducido que es util para la consulta relacionada al meta score por juego."
   ]
  }
 ],
 "metadata": {
  "kernelspec": {
   "display_name": "Python 3",
   "language": "python",
   "name": "python3"
  },
  "language_info": {
   "codemirror_mode": {
    "name": "ipython",
    "version": 3
   },
   "file_extension": ".py",
   "mimetype": "text/x-python",
   "name": "python",
   "nbconvert_exporter": "python",
   "pygments_lexer": "ipython3",
   "version": "3.11.3"
  },
  "orig_nbformat": 4
 },
 "nbformat": 4,
 "nbformat_minor": 2
}

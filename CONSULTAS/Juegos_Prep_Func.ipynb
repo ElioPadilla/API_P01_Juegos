{
 "cells": [
  {
   "cell_type": "code",
   "execution_count": 1,
   "metadata": {},
   "outputs": [],
   "source": [
    "import pandas as pd\n",
    "import json\n",
    "import ast\n",
    "from datetime import datetime\n",
    "import numpy as np"
   ]
  },
  {
   "cell_type": "code",
   "execution_count": 2,
   "metadata": {},
   "outputs": [],
   "source": [
    "#df = pd.read_csv(\"stems_games_expandido.csv\")"
   ]
  },
  {
   "cell_type": "markdown",
   "metadata": {},
   "source": [
    "En la columna \"price\" fuente, vienen algunos valores NO numericos que quiza pueda tener utilidad. Estos son:\n",
    "\n",
    "['Free To Play', 'Play WARMACHINE: Tactics Demo', 'Install Now', 'Install Theme','Free HITMAN™ Holiday Pack','Free Demo', 'Play for Free!','Free Mod',\n",
    "'Third-party','Play Now','Play the Demo','Starting at $499.00','Starting at $449.00','Free to Try','Free Movie','Free to Use']"
   ]
  },
  {
   "cell_type": "markdown",
   "metadata": {},
   "source": [
    "PROCEDEMOS A REALIZAR CONSULTAS.\n",
    "1.- DADO UN AÑO SE REQUIERE LOS 5 GNEROS MAS VENDIDOS\n",
    "2.- DADO UN AÑO SE REQUIERE UNA LISTA DE LOS JUEGOS LANZADOS DURANTE ESE AÑO\n",
    "3.- DADO UN AÑO SE REQUIEREN LAS ESPECIFICACIONES MAS FRECUENTES EN ESE AÑO.\n",
    "4.- DADO UN AÑO SE REQUIERE LA CANTIDAD DE JUEGOS QUE FUERON LANZADOS EN LA MODALIDAD DE EARLY ACCESS.\n",
    "5.- DADO UN AÑO SE REQUIERE LA CANTIDAD DE REGISTROS (POR CATEGORIA DE SENTIMIENTO) INHERENTES A ESE AÑO.\n",
    "6.- DADO UN AÑO SE REQUIERE EL TOP 5 DE JUEGOS DE MAYOR METASCORE."
   ]
  },
  {
   "cell_type": "markdown",
   "metadata": {},
   "source": [
    "1.- DADO UN AÑO SE REQUIERE LOS 5 GNEROS MAS VENDIDOS"
   ]
  },
  {
   "cell_type": "code",
   "execution_count": 2,
   "metadata": {},
   "outputs": [],
   "source": [
    "df_generos = pd.read_csv(\"func_genero.csv\")"
   ]
  },
  {
   "cell_type": "code",
   "execution_count": 3,
   "metadata": {},
   "outputs": [],
   "source": [
    "def genero(año:int,df_generos):  \n",
    "    var = año\n",
    "    df_generos_año = df_generos[df_generos[\"año\"] == var]\n",
    "    grouped = df_generos_año.groupby('genres').size().reset_index(name='counts')\n",
    "    sorted_grouped = grouped.sort_values(by='counts', ascending=False).head()\n",
    "    dictionary = sorted_grouped.set_index('genres').to_dict(orient='index')\n",
    "    return dictionary\n"
   ]
  },
  {
   "cell_type": "code",
   "execution_count": 4,
   "metadata": {},
   "outputs": [
    {
     "data": {
      "text/plain": [
       "{'Indie': {'counts': 5929},\n",
       " 'Action': {'counts': 3525},\n",
       " 'Casual': {'counts': 3147},\n",
       " 'Adventure': {'counts': 2798},\n",
       " 'Strategy': {'counts': 2257}}"
      ]
     },
     "execution_count": 4,
     "metadata": {},
     "output_type": "execute_result"
    }
   ],
   "source": [
    "genero(2017,df_generos)"
   ]
  },
  {
   "cell_type": "markdown",
   "metadata": {},
   "source": [
    "2.- DADO UN AÑO SE REQUIERE UNA LISTA DE LOS JUEGOS LANZADOS DURANTE ESE AÑO"
   ]
  },
  {
   "cell_type": "code",
   "execution_count": 5,
   "metadata": {},
   "outputs": [],
   "source": [
    "df_titulos = pd.read_csv(\"func_juego.csv\")"
   ]
  },
  {
   "cell_type": "code",
   "execution_count": 10,
   "metadata": {},
   "outputs": [],
   "source": [
    "def juegos(año,df_titulos):\n",
    "    var = año\n",
    "    #lista_titulos_año = [\"Real Pool 3D - Poolians\",\"弹炸人2222\",\"RC Plane 3 - Canyon Scenario\",\"RC Plane 3 - F-53B\"]\n",
    "    lista_titulos_año = df_titulos[df_titulos[\"año\"] == var][\"title\"].unique().tolist()\n",
    "    #cadena = \"[\"\n",
    "    #for i,valor in enumerate(lista_titulos_año):\n",
    "    #    cadena += valor+\",\"\n",
    "    #cadena = cadena[:-1] + \"]\" \n",
    "    #titulo = \"Titulos\"\n",
    "    #diccionario = \"{\"+titulo+\":\"+cadena+\"}\"\n",
    "    #return (diccionario)\n",
    "    dic = {\"Juegos\":lista_titulos_año}\n",
    "    return str(dic)\n"
   ]
  },
  {
   "cell_type": "code",
   "execution_count": 11,
   "metadata": {},
   "outputs": [
    {
     "data": {
      "text/plain": [
       "\"{'Juegos': ['Raji: An Ancient Epic', 'The Legendary Player - Make Your Reputation - OPEN BETA', 'The End of an Age: Fading Remnants']}\""
      ]
     },
     "execution_count": 11,
     "metadata": {},
     "output_type": "execute_result"
    }
   ],
   "source": [
    "juegos(2019,df_titulos)"
   ]
  },
  {
   "cell_type": "markdown",
   "metadata": {},
   "source": [
    "3.- DADO UN AÑO SE REQUIEREN LAS ESPECIFICACIONES MAS FRECUENTES EN ESE AÑO."
   ]
  },
  {
   "cell_type": "code",
   "execution_count": 8,
   "metadata": {},
   "outputs": [],
   "source": [
    "df_espec = pd.read_csv(\"func_specs.csv\")"
   ]
  },
  {
   "cell_type": "code",
   "execution_count": 9,
   "metadata": {},
   "outputs": [],
   "source": [
    "def espec(año:int,df_espec):  \n",
    "    var = año\n",
    "    df_espec_año = df_espec[df_espec[\"año\"] == var]\n",
    "    grouped = df_espec_año.groupby('specs').size().reset_index(name='counts')\n",
    "    sorted_grouped = grouped.sort_values(by='counts', ascending=False)\n",
    "    dictionary = sorted_grouped.set_index('specs').to_dict(orient='index')\n",
    "    return dictionary"
   ]
  },
  {
   "cell_type": "code",
   "execution_count": 10,
   "metadata": {},
   "outputs": [
    {
     "data": {
      "text/plain": [
       "{'Single-player': {'counts': 87},\n",
       " 'Steam Achievements': {'counts': 42},\n",
       " 'Steam Cloud': {'counts': 22},\n",
       " 'Full controller support': {'counts': 20},\n",
       " 'Steam Trading Cards': {'counts': 18},\n",
       " 'Partial Controller Support': {'counts': 18},\n",
       " 'Downloadable Content': {'counts': 15},\n",
       " 'Multi-player': {'counts': 13},\n",
       " 'Online Multi-Player': {'counts': 12},\n",
       " 'Steam Leaderboards': {'counts': 11},\n",
       " 'In-App Purchases': {'counts': 10},\n",
       " 'Cross-Platform Multiplayer': {'counts': 9},\n",
       " 'Shared/Split Screen': {'counts': 6},\n",
       " 'Stats': {'counts': 4},\n",
       " 'Captions available': {'counts': 4},\n",
       " 'Local Multi-Player': {'counts': 3},\n",
       " 'Local Co-op': {'counts': 2},\n",
       " 'Includes level editor': {'counts': 2},\n",
       " 'Steam Turn Notifications': {'counts': 2},\n",
       " 'Online Co-op': {'counts': 1},\n",
       " 'MMO': {'counts': 1},\n",
       " 'Steam Workshop': {'counts': 1}}"
      ]
     },
     "execution_count": 10,
     "metadata": {},
     "output_type": "execute_result"
    }
   ],
   "source": [
    "espec(2018,df_espec)"
   ]
  },
  {
   "cell_type": "markdown",
   "metadata": {},
   "source": [
    "4.- DADO UN AÑO SE REQUIERE LA CANTIDAD DE JUEGOS QUE FUERON LANZADOS EN LA MODALIDAD DE EARLY ACCESS."
   ]
  },
  {
   "cell_type": "code",
   "execution_count": 11,
   "metadata": {},
   "outputs": [],
   "source": [
    "df_early = pd.read_csv(\"func_early.csv\")"
   ]
  },
  {
   "cell_type": "code",
   "execution_count": 12,
   "metadata": {},
   "outputs": [],
   "source": [
    "def earlyacces(año,df_early):\n",
    "    df_early_año = df_early[df_early[\"año\"] == año]\n",
    "    return df_early_año[df_early_año[\"early_access\"] == True][\"early_access\"].count()"
   ]
  },
  {
   "cell_type": "code",
   "execution_count": 13,
   "metadata": {},
   "outputs": [
    {
     "data": {
      "text/plain": [
       "21"
      ]
     },
     "execution_count": 13,
     "metadata": {},
     "output_type": "execute_result"
    }
   ],
   "source": [
    "earlyacces(2018,df_early)"
   ]
  },
  {
   "cell_type": "markdown",
   "metadata": {},
   "source": [
    "5.- DADO UN AÑO SE REQUIERE LA CANTIDAD DE REGISTROS (POR CATEGORIA DE SENTIMIENTO) INHERENTES A ESE AÑO."
   ]
  },
  {
   "cell_type": "code",
   "execution_count": 14,
   "metadata": {},
   "outputs": [],
   "source": [
    "df_sentiment = pd.read_csv(\"func_sentiment.csv\")"
   ]
  },
  {
   "cell_type": "code",
   "execution_count": 15,
   "metadata": {},
   "outputs": [],
   "source": [
    "def sentimiento(año:int,df_sentimen):  \n",
    "    var = año\n",
    "    df_sentiment_año = df_sentiment[df_sentiment[\"año\"] == var]\n",
    "    grouped = df_sentiment_año.groupby('sentiment').size().reset_index(name='counts')\n",
    "    sorted_grouped = grouped.sort_values(by='counts', ascending=False)\n",
    "    dictionary = sorted_grouped.set_index('sentiment').to_dict(orient='index')\n",
    "    return dictionary"
   ]
  },
  {
   "cell_type": "code",
   "execution_count": 16,
   "metadata": {},
   "outputs": [
    {
     "data": {
      "text/plain": [
       "{'1 user reviews': {'counts': 8},\n",
       " '3 user reviews': {'counts': 6},\n",
       " 'Mixed': {'counts': 6},\n",
       " '2 user reviews': {'counts': 4},\n",
       " 'Mostly Positive': {'counts': 3},\n",
       " 'Very Positive': {'counts': 3},\n",
       " '4 user reviews': {'counts': 2},\n",
       " '5 user reviews': {'counts': 2},\n",
       " '9 user reviews': {'counts': 2},\n",
       " '6 user reviews': {'counts': 1},\n",
       " '7 user reviews': {'counts': 1},\n",
       " '8 user reviews': {'counts': 1},\n",
       " 'Mostly Negative': {'counts': 1}}"
      ]
     },
     "execution_count": 16,
     "metadata": {},
     "output_type": "execute_result"
    }
   ],
   "source": [
    "sentimiento(2018,df_sentiment)"
   ]
  },
  {
   "cell_type": "markdown",
   "metadata": {},
   "source": [
    "6.- DADO UN AÑO SE REQUIERE EL TOP 5 DE JUEGOS DE MAYOR METASCORE."
   ]
  },
  {
   "cell_type": "code",
   "execution_count": 17,
   "metadata": {},
   "outputs": [],
   "source": [
    "df_metascore = pd.read_csv(\"func_metascore.csv\")"
   ]
  },
  {
   "cell_type": "code",
   "execution_count": 18,
   "metadata": {},
   "outputs": [],
   "source": [
    "def metascore(año:int,df_metascore):  \n",
    "    var = año\n",
    "    df_metascore_año = df_metascore[df_metascore[\"año\"] == var]\n",
    "    df_metascore_año = df_metascore_año.drop_duplicates(subset=['title', 'metascore'])\n",
    "    Ordenado = df_metascore_año[[\"title\",\"metascore\"]] .sort_values('metascore', ascending = False).head()\n",
    "    dictionary = Ordenado.set_index(\"title\").to_dict()\n",
    "    return dictionary\n"
   ]
  },
  {
   "cell_type": "code",
   "execution_count": 19,
   "metadata": {},
   "outputs": [
    {
     "data": {
      "text/plain": [
       "{'metascore': {'Out of the Park Baseball 17': 92.0,\n",
       "  'Tumblestone': 91.0,\n",
       "  \"Stephen's Sausage Roll\": 90.0,\n",
       "  'NBA 2K17': 90.0,\n",
       "  'Tadpole Treble': 90.0}}"
      ]
     },
     "execution_count": 19,
     "metadata": {},
     "output_type": "execute_result"
    }
   ],
   "source": [
    "metascore(2016,df_metascore)"
   ]
  }
 ],
 "metadata": {
  "kernelspec": {
   "display_name": "Python 3",
   "language": "python",
   "name": "python3"
  },
  "language_info": {
   "codemirror_mode": {
    "name": "ipython",
    "version": 3
   },
   "file_extension": ".py",
   "mimetype": "text/x-python",
   "name": "python",
   "nbconvert_exporter": "python",
   "pygments_lexer": "ipython3",
   "version": "3.11.3"
  },
  "orig_nbformat": 4
 },
 "nbformat": 4,
 "nbformat_minor": 2
}

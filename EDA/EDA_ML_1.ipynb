{
 "cells": [
  {
   "cell_type": "code",
   "execution_count": 1,
   "metadata": {},
   "outputs": [],
   "source": [
    "import pandas as pd\n",
    "import numpy as np\n",
    "import matplotlib.pyplot as pl\n",
    "import math"
   ]
  },
  {
   "cell_type": "code",
   "execution_count": 2,
   "metadata": {},
   "outputs": [],
   "source": [
    "df = pd.read_csv(\"C:/Users/Elio Padilla/Desktop/SOYHENRY/MODULO_LABS/JUEGOS_ML_OP/ETL/stems_games_expandido.csv\")"
   ]
  },
  {
   "cell_type": "markdown",
   "metadata": {},
   "source": [
    "    EL PROCESO DE ANALISIS DE LA DATA FUENTE A EFECTOS DE LA IMPLEMENTACION DE UN MODELO DE PREDICCION DE ML CONTEMPLARA LOS SIGUIENTES CRITERIOS, LISTADOS EN SU RESPECTIVO ORDEN DE RELEVANCIA.\n",
    "    1.- USO DE LA MAYOR CANTIDAD DE DATOS POSIBLES. \n",
    "        ESTO IMPLICA QUE AQUELLAS COLUMNAS QUE DE ANTEMANO CONTRIBUYEN EN MUY POCA CANTIDAD DE DATOS, SERAN EXCLUIDAS.\n",
    "    2.- MINIMIZACION DE LA CANTIDAD DE FEATURES PARA LA IMPLEMENTACION DE ML. ESTA PREMISA SE DESARROLLARA EN E SIGUIENTE ORDEN DE CRITERIOS.\n",
    "        2.1.- ENTRE COLUMNAS CON CONTENIDO IGUAL O SIMILAR, PREVALECERA AQUELLA COLUMNA QUE APORTE MAYOR CANTIDAD DE INFORMACION.\n",
    "        2.2.- ENTRE LOS FEATURES, AQUELLOS CUYA RELACION LINEAL SE CONSIDERE MUY ALTA, SE DECIDIRA POR UNO. AQUEL QUE APORTE MAYOR INFORMACION RELEVANTE.\n",
    "    3.- SEGUN SEA EL MODELO CONSIDERADO, SE SELECCIONARAN LOS FEATURES QUE MEJOR SE DESEMPEÑEN."
   ]
  },
  {
   "cell_type": "code",
   "execution_count": 3,
   "metadata": {},
   "outputs": [
    {
     "data": {
      "text/plain": [
       "Index(['Unnamed: 0', 'id', 'publisher', 'genres', 'tags', 'title', 'specs',\n",
       "       'early_access', 'sentiment', 'metascore', 'año', 'precio_1'],\n",
       "      dtype='object')"
      ]
     },
     "execution_count": 3,
     "metadata": {},
     "output_type": "execute_result"
    }
   ],
   "source": [
    "df.columns"
   ]
  },
  {
   "cell_type": "code",
   "execution_count": 4,
   "metadata": {},
   "outputs": [],
   "source": [
    "df = df.drop(['Unnamed: 0'], axis=1) # No aporta.\n",
    "df = df.drop([\"id\"], axis = 1) # El dato id, no aporta nada al objetivo de la prediccion, po tanto sera desconsiderado desde este punto.\n",
    "df = df.drop([\"title\"], axis = 1) # El titulo de un juego tampoco es considerado un elemento que dado el historico de nombres al juego, \n",
    "# defina impacto en una prediccion."
   ]
  },
  {
   "cell_type": "code",
   "execution_count": 5,
   "metadata": {},
   "outputs": [
    {
     "name": "stdout",
     "output_type": "stream",
     "text": [
      "<class 'pandas.core.frame.DataFrame'>\n",
      "RangeIndex: 2088746 entries, 0 to 2088745\n",
      "Data columns (total 9 columns):\n",
      " #   Column        Dtype  \n",
      "---  ------        -----  \n",
      " 0   publisher     object \n",
      " 1   genres        object \n",
      " 2   tags          object \n",
      " 3   specs         object \n",
      " 4   early_access  bool   \n",
      " 5   sentiment     object \n",
      " 6   metascore     float64\n",
      " 7   año           int64  \n",
      " 8   precio_1      float64\n",
      "dtypes: bool(1), float64(2), int64(1), object(5)\n",
      "memory usage: 129.5+ MB\n"
     ]
    }
   ],
   "source": [
    "df.info()"
   ]
  },
  {
   "cell_type": "code",
   "execution_count": 178,
   "metadata": {},
   "outputs": [],
   "source": [
    "#df[df[\"precio_1\"].isna()]\n",
    "\n",
    "#df[df[\"genres\"].isna()]\n",
    "\n",
    "#df[df[\"specs\"].isna()]\n",
    "\n",
    "#df[df[\"año\"] == -1] #Existen valores de año irregulares, pero no se restringira el registro \n",
    "# puesto que aun no se sabe si esta columna sera importante para el modelo.\n",
    "\n",
    "#df[df[\"publisher\"].isna()].head() # Solo hay 5 registros con valores nan, no se restringira \n",
    "# a menos que termine siendo considerada importante para el modelo.\n",
    "\n",
    "#df[df[\"title\"].isna()]\n",
    "\n",
    "#df[df[\"early_access\"].isna()]\n",
    "\n",
    "#df[df[\"sentiment\"].isna()].head()\n",
    "\n",
    "#df[df[\"metascore\"].notna()][\"metascore\"].count() #[332.330 es la cantidad de registros a este nivel con metascore diferente de nulo. \n",
    "# ante tan poca cantidad de registros con este valor, sera descontado desde ya del modelo.\n",
    "\n",
    "#df[df[\"tags\"].isna()] # la columna \"tags\" no sera utilizada en el modelo dado que contiene mucho mas datos nulos que genero, y estas dos columnas\n",
    "# contienen aproximadamente el mismo conjunto de valores. Tal decision mantiene la premisa de mayor cant de datos coherentes.\n",
    "\n"
   ]
  },
  {
   "cell_type": "code",
   "execution_count": 6,
   "metadata": {},
   "outputs": [],
   "source": [
    "#NO tiene sentido trabajar con registros en los cuales existan valores nulos.\n",
    "df = df[df[\"precio_1\"].notna()]\n",
    "df = df[df[\"genres\"].notna()]\n",
    "df = df[df[\"specs\"].notna()]\n",
    "df = df[df[\"sentiment\"].notna()]"
   ]
  },
  {
   "cell_type": "markdown",
   "metadata": {},
   "source": [
    "Siendo \"tags\" una columna con valores muy similares a genero, razon por la cual laidea es avaluar el uso de una sola de ellas (genres o tags),\n",
    "se ha identificado que el conjunto de campos tags con nulos es mayor que la misma situacion en generos. Razon por la cual se concluye a este nivel\n",
    "del analisis que la columna \"tags\" no sera utilizada en el modelo ML, sera utilizada la columna genres."
   ]
  },
  {
   "cell_type": "code",
   "execution_count": 7,
   "metadata": {},
   "outputs": [],
   "source": [
    "df = df.drop(['tags'], axis=1)\n",
    "df = df.drop([\"metascore\"], axis=1)"
   ]
  },
  {
   "cell_type": "code",
   "execution_count": 8,
   "metadata": {},
   "outputs": [
    {
     "data": {
      "text/plain": [
       "array(['Free to Play', 'Indie', 'RPG', 'Strategy', 'Casual', 'Simulation',\n",
       "       'Sports', 'Action', 'Massively Multiplayer', 'Adventure',\n",
       "       'Early Access', 'Utilities', 'Animation &amp; Modeling',\n",
       "       'Video Production', 'Design &amp; Illustration', 'Web Publishing',\n",
       "       'Education', 'Software Training', 'Racing', 'Photo Editing'],\n",
       "      dtype=object)"
      ]
     },
     "execution_count": 8,
     "metadata": {},
     "output_type": "execute_result"
    }
   ],
   "source": [
    "# Mostramos los valores del campo genero a los cuales esta asociado un valor irregular de precio (-1)\n",
    "df[df[\"precio_1\"] == -1][[\"genres\",\"specs\",\"precio_1\"]][\"genres\"].unique()"
   ]
  },
  {
   "cell_type": "markdown",
   "metadata": {},
   "source": [
    "DE TODOS LOS GENEROS ASOCIADOS A VALORES IRREGULARES EN PRECIO, QUE PUDIERAN IMPLICAR UNA CONCLUSION ACEPTABLE, SON AQUELLOS \"FREE TO PLAY\"\n",
    "PUES, SE ENTETIENDE QUE ESTA CUALIDAD IMPLICA PRECIO = 0. POR TANTO, SE PODRIA IMPUTAR CERO (0) A TODOS AQUELLOS CASOS EN LOS CUALES SE ENCONTRO UN\n",
    "VALOR DE PRECIO IRREGULAR PERO SON \"FREE TO PLAY\""
   ]
  },
  {
   "cell_type": "code",
   "execution_count": 9,
   "metadata": {},
   "outputs": [
    {
     "data": {
      "text/plain": [
       "38344"
      ]
     },
     "execution_count": 9,
     "metadata": {},
     "output_type": "execute_result"
    }
   ],
   "source": [
    "# Pero cuantos valores \"correctos\", es decir, numericos en el precio, estan asociados al genero \"free to play\"\n",
    "df_temp = df[df[\"genres\"] == \"Free to Play\"]\n",
    "df_temp[df_temp[\"precio_1\"] == -1][\"precio_1\"].count()"
   ]
  },
  {
   "cell_type": "markdown",
   "metadata": {},
   "source": [
    "DADA LA INTENCION DE UTILIZAR LA MAYOR CANTIDAD DE DATOS POSIBLES, PERO TAMBIEN CON LA MAYOR COHERENCIA POSIBLE, SE HA IDENTIFICDO UNA SITUACION POTENCIALMENTE CRITICA. ESTOS ES, PRECIOS DIFERENTES DE CERO CUYO GENERO ES FREE TO PLAY. \n",
    "\n",
    "TAL SITUACION SE VUELVE CRITICA CUANDO TRATANDO DE ATENDER A LA POSIBLE IMPUTACION DE VALOR CERO A AQUELLOS PRECIOS IRREGULARES (IDENTIFICADOS CON VALOR ALFANUMERICO) SE NOS PLANTEA ENTONCES EL CONFLICTO CUANDO VERIFICAMOS QUE TAL PREMISA NO APLICA. EN ESE SENTIDO SURGE LA NECESIDD DE TOMAR UNA DECISION DE LAS SIGUIENTES DISPONIBLES:\n",
    "\n",
    "1.- ASIGNAR A LA COLUMNA PRECIO CON VALORES IRREGULARES, EL VALOR CONTENIDO EN AQUELLOS REGISTROS CON VALOR NUMERICO EN PRECIO PERO DE GENERO FREE TO PLAY Y POTENCIALMENTE APLICAR DICHO CRITERIO SOBRE TODOS AQUELLOS PRECIOS IRREGULARES PERO ASOCIADO A VALORES DE GENERO.\n",
    "2.- O, ASIGNAR EL VALOR CERO, A  AQUE LLOS PRECIOS \"IRREGULARES\" ASOCIADOS A GENERO FREE TO PLAY.\n",
    "\n",
    "DECISION ASUMIDA, NO SE CONSIDERARAN A EFECTOS DEL MODELO AQUELLOS REGISTROS CUYO PRECIO SEA UN VALOR IRREGULAR. SE ASUMIRA QUE LOS REGISTROS RESTANTES ESTAN PROPORCIONANDO LA LEGITITIMIDAD NECESARIA DE LA INFORMACION."
   ]
  },
  {
   "cell_type": "code",
   "execution_count": 10,
   "metadata": {},
   "outputs": [],
   "source": [
    "df = df[df[\"precio_1\"] != -1]"
   ]
  },
  {
   "cell_type": "code",
   "execution_count": 11,
   "metadata": {},
   "outputs": [],
   "source": [
    "# No nos sirven registros repetidos puesto que el objetivo es abstraer datos que configures una prediccion al mismo tiempo que se minimice el dataset.\n",
    "df = df.drop_duplicates()"
   ]
  },
  {
   "cell_type": "code",
   "execution_count": 12,
   "metadata": {},
   "outputs": [
    {
     "data": {
      "text/plain": [
       "190768"
      ]
     },
     "execution_count": 12,
     "metadata": {},
     "output_type": "execute_result"
    }
   ],
   "source": [
    "df[\"precio_1\"].count()"
   ]
  },
  {
   "cell_type": "markdown",
   "metadata": {},
   "source": [
    "FINALMENTE NOS QUEDAMOS CON UN DATASET EN ESTE PUNTO CON 190.768 REGISTROS."
   ]
  },
  {
   "cell_type": "code",
   "execution_count": 13,
   "metadata": {},
   "outputs": [
    {
     "data": {
      "text/html": [
       "<div>\n",
       "<style scoped>\n",
       "    .dataframe tbody tr th:only-of-type {\n",
       "        vertical-align: middle;\n",
       "    }\n",
       "\n",
       "    .dataframe tbody tr th {\n",
       "        vertical-align: top;\n",
       "    }\n",
       "\n",
       "    .dataframe thead th {\n",
       "        text-align: right;\n",
       "    }\n",
       "</style>\n",
       "<table border=\"1\" class=\"dataframe\">\n",
       "  <thead>\n",
       "    <tr style=\"text-align: right;\">\n",
       "      <th></th>\n",
       "      <th>publisher</th>\n",
       "      <th>genres</th>\n",
       "      <th>specs</th>\n",
       "      <th>early_access</th>\n",
       "      <th>sentiment</th>\n",
       "      <th>año</th>\n",
       "      <th>precio_1</th>\n",
       "    </tr>\n",
       "  </thead>\n",
       "  <tbody>\n",
       "    <tr>\n",
       "      <th>740</th>\n",
       "      <td>Trickjump Games Ltd</td>\n",
       "      <td>Action</td>\n",
       "      <td>Single-player</td>\n",
       "      <td>False</td>\n",
       "      <td>Mixed</td>\n",
       "      <td>2018</td>\n",
       "      <td>3.99</td>\n",
       "    </tr>\n",
       "    <tr>\n",
       "      <th>741</th>\n",
       "      <td>Trickjump Games Ltd</td>\n",
       "      <td>Action</td>\n",
       "      <td>Steam Achievements</td>\n",
       "      <td>False</td>\n",
       "      <td>Mixed</td>\n",
       "      <td>2018</td>\n",
       "      <td>3.99</td>\n",
       "    </tr>\n",
       "    <tr>\n",
       "      <th>756</th>\n",
       "      <td>Trickjump Games Ltd</td>\n",
       "      <td>Adventure</td>\n",
       "      <td>Single-player</td>\n",
       "      <td>False</td>\n",
       "      <td>Mixed</td>\n",
       "      <td>2018</td>\n",
       "      <td>3.99</td>\n",
       "    </tr>\n",
       "    <tr>\n",
       "      <th>757</th>\n",
       "      <td>Trickjump Games Ltd</td>\n",
       "      <td>Adventure</td>\n",
       "      <td>Steam Achievements</td>\n",
       "      <td>False</td>\n",
       "      <td>Mixed</td>\n",
       "      <td>2018</td>\n",
       "      <td>3.99</td>\n",
       "    </tr>\n",
       "    <tr>\n",
       "      <th>772</th>\n",
       "      <td>Trickjump Games Ltd</td>\n",
       "      <td>Simulation</td>\n",
       "      <td>Single-player</td>\n",
       "      <td>False</td>\n",
       "      <td>Mixed</td>\n",
       "      <td>2018</td>\n",
       "      <td>3.99</td>\n",
       "    </tr>\n",
       "    <tr>\n",
       "      <th>773</th>\n",
       "      <td>Trickjump Games Ltd</td>\n",
       "      <td>Simulation</td>\n",
       "      <td>Steam Achievements</td>\n",
       "      <td>False</td>\n",
       "      <td>Mixed</td>\n",
       "      <td>2018</td>\n",
       "      <td>3.99</td>\n",
       "    </tr>\n",
       "    <tr>\n",
       "      <th>1457</th>\n",
       "      <td>Apillo</td>\n",
       "      <td>Adventure</td>\n",
       "      <td>Single-player</td>\n",
       "      <td>False</td>\n",
       "      <td>1 user reviews</td>\n",
       "      <td>2018</td>\n",
       "      <td>1.59</td>\n",
       "    </tr>\n",
       "    <tr>\n",
       "      <th>1458</th>\n",
       "      <td>Apillo</td>\n",
       "      <td>Adventure</td>\n",
       "      <td>Steam Achievements</td>\n",
       "      <td>False</td>\n",
       "      <td>1 user reviews</td>\n",
       "      <td>2018</td>\n",
       "      <td>1.59</td>\n",
       "    </tr>\n",
       "    <tr>\n",
       "      <th>1459</th>\n",
       "      <td>Apillo</td>\n",
       "      <td>Adventure</td>\n",
       "      <td>Steam Cloud</td>\n",
       "      <td>False</td>\n",
       "      <td>1 user reviews</td>\n",
       "      <td>2018</td>\n",
       "      <td>1.59</td>\n",
       "    </tr>\n",
       "    <tr>\n",
       "      <th>1478</th>\n",
       "      <td>Apillo</td>\n",
       "      <td>Casual</td>\n",
       "      <td>Single-player</td>\n",
       "      <td>False</td>\n",
       "      <td>1 user reviews</td>\n",
       "      <td>2018</td>\n",
       "      <td>1.59</td>\n",
       "    </tr>\n",
       "  </tbody>\n",
       "</table>\n",
       "</div>"
      ],
      "text/plain": [
       "                publisher      genres               specs  early_access   \n",
       "740   Trickjump Games Ltd      Action       Single-player         False  \\\n",
       "741   Trickjump Games Ltd      Action  Steam Achievements         False   \n",
       "756   Trickjump Games Ltd   Adventure       Single-player         False   \n",
       "757   Trickjump Games Ltd   Adventure  Steam Achievements         False   \n",
       "772   Trickjump Games Ltd  Simulation       Single-player         False   \n",
       "773   Trickjump Games Ltd  Simulation  Steam Achievements         False   \n",
       "1457               Apillo   Adventure       Single-player         False   \n",
       "1458               Apillo   Adventure  Steam Achievements         False   \n",
       "1459               Apillo   Adventure         Steam Cloud         False   \n",
       "1478               Apillo      Casual       Single-player         False   \n",
       "\n",
       "           sentiment   año  precio_1  \n",
       "740            Mixed  2018      3.99  \n",
       "741            Mixed  2018      3.99  \n",
       "756            Mixed  2018      3.99  \n",
       "757            Mixed  2018      3.99  \n",
       "772            Mixed  2018      3.99  \n",
       "773            Mixed  2018      3.99  \n",
       "1457  1 user reviews  2018      1.59  \n",
       "1458  1 user reviews  2018      1.59  \n",
       "1459  1 user reviews  2018      1.59  \n",
       "1478  1 user reviews  2018      1.59  "
      ]
     },
     "execution_count": 13,
     "metadata": {},
     "output_type": "execute_result"
    }
   ],
   "source": [
    "df.head(10)"
   ]
  },
  {
   "cell_type": "markdown",
   "metadata": {},
   "source": [
    "ANALICEMOS A PARTIR DE AQUI A LAS VARIABLES DISPONIBLES EN EL SIGUIENTE ORDEN.\n",
    "1.- COMPROTAMIENTO Y CARACTERISTICAS DE LA VARIABLE OBJETIVO O EXPLICADA \"PRECIO\"\n",
    "2.- COMPORTAMIENTO Y CARACTERISTICAS DE LAS VARIABLES EXPLICADORAS. EN EL SIGUIENTE ORDEN DE RELEVANCIA (A PRIORI):\n",
    "    2.1.- GENERO (\"genres)\n",
    "    2.2.- ESPECIFICACIONES (\"specs\")\n",
    "    2.3.- SENTIMIENTO (\"sentiment\")\n",
    "    2.4.- PUBLICADOR (\"publisher\")\n",
    "    2.5.- ACCESO TEMPRANO O SALIDA TEMPRANA (\"early_access\")\n",
    "    2.6.- AÑO (\"año\")\n"
   ]
  },
  {
   "cell_type": "code",
   "execution_count": 14,
   "metadata": {},
   "outputs": [],
   "source": [
    "df.to_csv(\"DatasetML_V1.csv\")"
   ]
  }
 ],
 "metadata": {
  "kernelspec": {
   "display_name": "Python 3",
   "language": "python",
   "name": "python3"
  },
  "language_info": {
   "codemirror_mode": {
    "name": "ipython",
    "version": 3
   },
   "file_extension": ".py",
   "mimetype": "text/x-python",
   "name": "python",
   "nbconvert_exporter": "python",
   "pygments_lexer": "ipython3",
   "version": "3.11.3"
  },
  "orig_nbformat": 4
 },
 "nbformat": 4,
 "nbformat_minor": 2
}

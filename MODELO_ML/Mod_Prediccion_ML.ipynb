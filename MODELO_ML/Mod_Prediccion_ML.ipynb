{
 "cells": [
  {
   "cell_type": "code",
   "execution_count": 1,
   "metadata": {},
   "outputs": [],
   "source": [
    "import pandas as pd\n",
    "import numpy as np\n",
    "import sklearn\n",
    "from sklearn import linear_model\n",
    "from sklearn.model_selection import train_test_split\n",
    "from sklearn.linear_model import LinearRegression\n",
    "from sklearn.metrics import mean_squared_error\n",
    "from sklearn.metrics import r2_score\n",
    "import random"
   ]
  },
  {
   "cell_type": "code",
   "execution_count": 2,
   "metadata": {},
   "outputs": [],
   "source": [
    "df_efectivo = pd.read_csv(\"DatasetML_Efectivo.csv\")\n",
    "df_general = pd.read_csv(\"DatasetML_General.csv\")"
   ]
  },
  {
   "cell_type": "code",
   "execution_count": 3,
   "metadata": {},
   "outputs": [
    {
     "data": {
      "text/plain": [
       "Index(['Unnamed: 0', 'escala_genres', 'escala_specs', 'escala_sentiment',\n",
       "       'escala_early', 'precio_1'],\n",
       "      dtype='object')"
      ]
     },
     "execution_count": 3,
     "metadata": {},
     "output_type": "execute_result"
    }
   ],
   "source": [
    "df_efectivo.columns"
   ]
  },
  {
   "cell_type": "markdown",
   "metadata": {},
   "source": [
    "MODELO DE REGRESION LINEAL PARA LA POBLACION GENERAL."
   ]
  },
  {
   "cell_type": "code",
   "execution_count": 4,
   "metadata": {},
   "outputs": [
    {
     "name": "stdout",
     "output_type": "stream",
     "text": [
      "Pendientes:  [-16.27248769 -29.91685814   0.3901166   18.24283764]\n",
      "Interceptor:  14.277519448113623\n"
     ]
    }
   ],
   "source": [
    "X = df_general[[\"escala_specs\",\"escala_genres\",\"escala_early\",\"escala_sentiment\"]].values\n",
    "Y = df_general[\"precio_1\"]\n",
    "X_train, X_test, y_train, y_test = train_test_split(X, Y, test_size=0.2, random_state=4)\n",
    "modelo_general = LinearRegression(fit_intercept=True)\n",
    "modelo_general.fit(X_train, y_train)\n",
    "print(\"Pendientes: \",modelo_general.coef_)\n",
    "print(\"Interceptor: \",modelo_general.intercept_)\n",
    "\n",
    "#regresion_general = linear_model.LinearRegression()\n",
    "#insumo = df_general[[\"escala_genres\",\"escala_specs\",\"escala_sentiment\"]].values#.reshape((-1, 1))\n",
    "#modelo_general = regresion_general.fit(insumo, df_general[\"precio_1\"])\n",
    "#print(\"Intersección (b)\", modelo_general.intercept_)\n",
    "#print(\"Pendiente (m)\", modelo_general.coef_)"
   ]
  },
  {
   "cell_type": "code",
   "execution_count": 5,
   "metadata": {},
   "outputs": [
    {
     "name": "stdout",
     "output_type": "stream",
     "text": [
      "Error en datos de train: 176.07154113277724\n",
      "Error en datos de test: 160.82838225090256\n",
      "Coeficiente de determinacion:  0.03895912416515668\n"
     ]
    }
   ],
   "source": [
    "\n",
    "y_train_pred = modelo_general.predict(X_train)\n",
    "y_test_pred = modelo_general.predict(X_test)\n",
    "\n",
    "print('Error en datos de train:', mean_squared_error(y_train, y_train_pred))\n",
    "print('Error en datos de test:', mean_squared_error(y_test, y_test_pred))\n",
    "\n",
    "r2 = r2_score(y_test, y_test_pred)\n",
    "print(\"Coeficiente de determinacion: \",r2)"
   ]
  },
  {
   "cell_type": "markdown",
   "metadata": {},
   "source": [
    "MODELO DE REGRESION LINEAL PARA LA POBLACION EFECTIVA."
   ]
  },
  {
   "cell_type": "code",
   "execution_count": 6,
   "metadata": {},
   "outputs": [
    {
     "name": "stdout",
     "output_type": "stream",
     "text": [
      "Pendientes:  [-3.72837432 -3.20498395  2.3159781  13.70138819]\n",
      "Interceptor:  6.084275255404705\n"
     ]
    }
   ],
   "source": [
    "X = df_efectivo[[\"escala_specs\",\"escala_genres\",\"escala_early\",\"escala_sentiment\"]].values\n",
    "Y = df_efectivo[\"precio_1\"]\n",
    "X_train, X_test, y_train, y_test = train_test_split(X, Y, test_size=0.2, random_state=42)\n",
    "modelo_efectivo = LinearRegression(fit_intercept=True)\n",
    "modelo_efectivo.fit(X_train, y_train)\n",
    "print(\"Pendientes: \",modelo_efectivo.coef_)\n",
    "print(\"Interceptor: \",modelo_efectivo.intercept_)\n",
    "\n",
    "#regresion_efect = linear_model.LinearRegression()\n",
    "#insumo = df_efectivo[[\"escala_genres\",\"escala_specs\",\"escala_sentiment\"]].values#.reshape((-1, 1))\n",
    "#modelo_efect = regresion_efect.fit(insumo, df_efectivo[\"precio_1\"])\n",
    "#print(\"Intersección (b)\", modelo_efect.intercept_)\n",
    "#print(\"Pendiente (m)\", modelo_efect.coef_)"
   ]
  },
  {
   "cell_type": "code",
   "execution_count": 7,
   "metadata": {},
   "outputs": [
    {
     "name": "stdout",
     "output_type": "stream",
     "text": [
      "Error en datos de train: 17.734320543436542\n",
      "Error en datos de test: 17.709089578701715\n",
      "Coeficiente de determinacion:  0.06435203942984768\n"
     ]
    }
   ],
   "source": [
    "\n",
    "y_train_pred = modelo_efectivo.predict(X_train)\n",
    "y_test_pred = modelo_efectivo.predict(X_test)\n",
    "\n",
    "print('Error en datos de train:', mean_squared_error(y_train, y_train_pred))\n",
    "print('Error en datos de test:', mean_squared_error(y_test, y_test_pred))\n",
    "\n",
    "r2 = r2_score(y_test, y_test_pred)\n",
    "print(\"Coeficiente de determinacion: \",r2)"
   ]
  },
  {
   "cell_type": "markdown",
   "metadata": {},
   "source": [
    "CONSTRUYAMOS EL MODELO DE PREDICCION BASADO EN REGRESION LINEAL."
   ]
  },
  {
   "cell_type": "code",
   "execution_count": 21,
   "metadata": {},
   "outputs": [],
   "source": [
    "def prediccion(especificaciones:str,genero:str,lanzamiento:str,sentimiento:str):\n",
    "    atributos = [\"escala_specs\",\"escala_genres\",\"escala_early\",\"escala_sentiment\"]\n",
    "    Coef_general = [-16.27248769, -29.91685814,   0.3901166,   18.24283764]\n",
    "    Interc_general = [14.277519448113623]\n",
    "    Coef_efectivo = [-3.72837432, -3.20498395,  2.3159781 , 13.70138819]\n",
    "    Interc_efectivo = [6.084275255404705]\n",
    "    # Descargamos el listado de todas las especificaciones del dataset.\n",
    "    \n",
    "    #Escala_especificaciones = [('Game demo', 0), ('SteamVR Collectibles', 1), ('Includes Source SDK', 2), ('Steam Turn Notifications', 3), ('Commentary available', 4),\n",
    "    #('Valve Anti-Cheat enabled', 5), ('In-App Purchases', 6), ('Local Co-op', 7), ('Captions available', 8), ('MMO', 9), ('Online Co-op', 10), ('Local Multi-Player', 11),\n",
    "    #('Includes level editor', 12), ('Steam Workshop', 13), ('Cross-Platform Multiplayer', 14), ('Online Multi-Player', 15), ('Stats', 16), ('Shared/Split Screen', 17),\n",
    "    #('Co-op', 18), ('Steam Leaderboards', 19), ('Partial Controller Support', 20), ('Downloadable Content', 21), ('Multi-player', 22), ('Full controller support', 23),\n",
    "    #('Steam Cloud', 24), ('Steam Trading Cards', 25), ('Steam Achievements', 26), ('Single-player', 27)]\n",
    "    \n",
    "    Escala_especificaciones = [('Single-player', 0.21), ('Steam Achievements', 0.14), ('Steam Trading Cards', 0.11), ('Steam Cloud', 0.08), ('Full controller support', 0.06),\n",
    "    ('Multi-player', 0.06), ('Downloadable Content', 0.05), ('Partial Controller Support', 0.05), ('Steam Leaderboards', 0.04), ('Co-op', 0.03),\n",
    "    ('Shared/Split Screen', 0.03), ('Stats', 0.02), ('Online Multi-Player', 0.02), ('Cross-Platform Multiplayer', 0.02), ('Steam Workshop', 0.02),\n",
    "    ('Includes level editor', 0.01), ('Local Multi-Player', 0.01), ('Online Co-op', 0.01), ('MMO', 0.01), ('Captions available', 0.01),\n",
    "    ('Local Co-op', 0.01), ('In-App Purchases', 0.01), ('Valve Anti-Cheat enabled', 0.0), ('Commentary available', 0.0), ('Steam Turn Notifications', 0.0),\n",
    "     ('Includes Source SDK', 0.0), ('SteamVR Collectibles', 0.0), ('Game demo', 0.0)]\n",
    "\n",
    "    lista_spec = []\n",
    "    lista_spec_esc = []\n",
    "    for i in range(0,len(Escala_especificaciones)):\n",
    "        lista_spec.append(Escala_especificaciones[i][0])\n",
    "        lista_spec_esc.append(Escala_especificaciones[i][1])\n",
    "    # Descargamos todos los valores de generos en el dataset.\n",
    "\n",
    "    #Escala_generos = [('Photo Editing', 0), ('Audio Production', 1), ('Video Production', 2), ('Software Training', 3), ('Education', 4), ('Animation &amp; Modeling', 5),\n",
    "    #('Utilities', 6), ('Web Publishing', 7), ('Design &amp; Illustration', 8), ('Free to Play', 9), ('Massively Multiplayer', 10), ('Racing', 11), ('Sports', 12),\n",
    "    #('Early Access', 13), ('RPG', 14), ('Simulation', 15), ('Casual', 16), ('Strategy', 17), ('Adventure', 18), ('Action', 19), ('Indie', 20)]\n",
    "    \n",
    "    Escala_generos = [('Indie', 0.23), ('Action', 0.2), ('Adventure', 0.12), ('Strategy', 0.1), ('Casual', 0.09), ('Simulation', 0.08), ('RPG', 0.07),\n",
    "    ('Early Access', 0.02), ('Sports', 0.02), ('Racing', 0.02), ('Massively Multiplayer', 0.02), ('Free to Play', 0.02), ('Design &amp; Illustration', 0.0),\n",
    "    ('Web Publishing', 0.0), ('Utilities', 0.0), ('Animation &amp; Modeling', 0.0), ('Education', 0.0), ('Software Training', 0.0),\n",
    "    ('Video Production', 0.0), ('Audio Production', 0.0), ('Photo Editing', 0.0)]\n",
    "    \n",
    "    lista_gen = []\n",
    "    lista_gen_esc = []\n",
    "    for i in range(0,len(Escala_generos)):\n",
    "        lista_gen.append(Escala_generos[i][0])\n",
    "        lista_gen_esc.append(Escala_generos[i][1])\n",
    "    # Descargamos todos los valores de sentimiento en el dataset\n",
    "\n",
    "    #Escala_sentimiento = [('Overwhelmingly Negative', 0), ('Very Negative', 1), ('Negative', 2), ('Overwhelmingly Positive', 3), ('9 user reviews', 4), ('8 user reviews', 5),\n",
    "    #( '7 user reviews', 6), ('6 user reviews', 7), ('Mostly Negative', 8), ('5 user reviews', 9), ('4 user reviews', 10), ('3 user reviews', 11), ('2 user reviews', 12),\n",
    "    #('1 user reviews', 13), ('Positive', 14), ('Mostly Positive', 15), ('Mixed', 16), ('Very Positive', 17)]\n",
    "    \n",
    "    Escala_sentimiento = [('Very Positive', 0.18), ('Mixed', 0.16), ('Mostly Positive', 0.13), ('Positive', 0.12), ('1 user reviews', 0.07), ('2 user reviews', 0.06),\n",
    "    ('3 user reviews', 0.05), ('4 user reviews', 0.04), ('5 user reviews', 0.03), ('Mostly Negative', 0.03), ('6 user reviews', 0.03), ('7 user reviews', 0.03),\n",
    "    ('8 user reviews', 0.02), ('9 user reviews', 0.02), ('Overwhelmingly Positive', 0.02), ('Negative', 0.0), ('Very Negative', 0.0), ('Overwhelmingly Negative', 0.0)]\n",
    "    \n",
    "    lista_sent = []\n",
    "    lista_sent_esc = []\n",
    "    for i in range(0,len(Escala_sentimiento)):\n",
    "        lista_sent.append(Escala_sentimiento[i][0])\n",
    "        lista_sent_esc.append(Escala_sentimiento[i][1])\n",
    "    \n",
    "    # Verificamos que el string de caracteres ingresado conincida con los valores del datset.\n",
    "    if especificaciones in lista_spec:\n",
    "        Exist_spec = True\n",
    "        resp_usuario1 = True\n",
    "    else:\n",
    "        Exist_spec = False\n",
    "        resp_usuario1 = False\n",
    "    if genero in lista_gen:\n",
    "        Exist_gen = True\n",
    "        resp_usuario2 = True\n",
    "    else:\n",
    "        Exist_gen = False\n",
    "        resp_usuario2 = False\n",
    "    if sentimiento in lista_sent:\n",
    "        Exist_sent = True\n",
    "        resp_usuario3 = True\n",
    "    else:\n",
    "        Exist_sent = False\n",
    "        resp_usuario3 = False\n",
    "    if lanzamiento == \"True\" or (lanzamiento) == 1:\n",
    "        Exist_lanz = True\n",
    "        resp_usuario4 = True\n",
    "    else:\n",
    "        Exist_lanz = False\n",
    "        resp_usuario4 = False\n",
    "    # Si los valores ingrsados a la fucncion existen, se procede obtener el valor numerico asociado segun las escalas predefinidas para cada columna en el modelo ML\n",
    "    if Exist_spec:\n",
    "        var_spec = float(lista_spec_esc[lista_spec.index(especificaciones)])\n",
    "    else:\n",
    "        var_spec = float(-1)\n",
    "    if Exist_gen:\n",
    "        var_gen = float(lista_gen_esc[lista_gen.index(genero)])  #lista[lista.index(num)]\n",
    "    else:\n",
    "        var_gen = float(-1)\n",
    "    if Exist_sent:\n",
    "        var_sent = float(lista_sent_esc[lista_sent.index(sentimiento)])\n",
    "    else:\n",
    "        var_sent = float(-1)\n",
    "    if Exist_lanz:\n",
    "        var_lanz = float(1)\n",
    "    else:\n",
    "        var_lanz = float(0)\n",
    "    # Si efectivmente los valores existen en el dataset. Se hace uso de sus valores escalados y se procede a calcular su proyeccion\n",
    "    if resp_usuario1 and resp_usuario2 and resp_usuario3:\n",
    "        variables = [var_spec,var_gen,var_lanz,var_sent]\n",
    "        # Dado que se desarrollo el modelo de ML medante REGRESION LINEAL se hace uso de los coeficientes del plano a fin de calclar el valor.\n",
    "        Precio_general = Interc_general[0] + (Coef_general[0] * variables[0]) + (Coef_general[1] * variables[1]) + (Coef_general[2] * variables[2]) + (Coef_general[3] * variables[3])\n",
    "        Precio_efectivo = Interc_efectivo[0] + (Coef_efectivo[0] * variables[0]) + (Coef_efectivo[1] * variables[1]) + (Coef_efectivo[2] * variables[2]) + (Coef_efectivo[3] * variables[3])\n",
    "        # Dado que la distribucion del precio titne particularidades en su comportamiento, se utiliza este a fin de estiar el precio proyectado segun dos probabilidades:\n",
    "        # P(que e precio tenga una distribucion aprox uniforme entre 0 y 19,98 $) y la P(que el precio exceda hacia valores entre 19.99 hasta 771 $).\n",
    "        # En funcion del resutado aleatorio la proyeccion de precio se emite con uno de los dos modelos de regresion predefinidos. Igualmente su variacion y precio mas probable.\n",
    "        numero_aleatorio = random.randint(0, 100)\n",
    "        if numero_aleatorio > 85:\n",
    "            respuesta = Precio_general\n",
    "            variacion = 13.44\n",
    "            precio_probable = [abs(Precio_general-39.99),abs(Precio_general-19.99),abs(Precio_general-29.99)]\n",
    "            minimo = min(precio_probable)\n",
    "            if minimo == precio_probable[0]:\n",
    "                p_probable = 39.99\n",
    "            elif minimo == precio_probable[1]:\n",
    "                p_probable = 19.99\n",
    "            else: p_probable = 29.99 \n",
    "        else:\n",
    "            respuesta = Precio_efectivo\n",
    "            variacion = 4.37\n",
    "            precio_probable = [abs(Precio_efectivo-9.99),abs(Precio_efectivo-4.99),abs(Precio_efectivo-14.99)]\n",
    "            minimo = min(precio_probable)\n",
    "            if minimo == precio_probable[0]:\n",
    "                p_probable = 9.99\n",
    "            elif minimo == precio_probable[1]:\n",
    "                p_probable = 4.99\n",
    "            else: p_probable = 14.99 \n",
    "            entregable = {'Precio_proyectado':round(respuesta,2),'Variacion': round(variacion,2), 'Precio_Probable':round(p_probable,2)}\n",
    "            #diccionario = {'clave1': 'dato1', 'clave2': 'dato2', 'clave3': 'dato3'}\n",
    "        return str(entregable)\n",
    "    else:\n",
    "        return \"-1\"\n"
   ]
  },
  {
   "cell_type": "code",
   "execution_count": 25,
   "metadata": {},
   "outputs": [
    {
     "data": {
      "text/plain": [
       "\"{'Precio_proyectado': 6.28, 'Variacion': 4.37, 'Precio_Probable': 4.99}\""
      ]
     },
     "execution_count": 25,
     "metadata": {},
     "output_type": "execute_result"
    }
   ],
   "source": [
    "# ('Cross-Platform Multiplayer', 14), ('Online Multi-Player', 15)\n",
    "# ('Audio Production', 1), ('Video Production', 2)\n",
    "# ('Negative', 2), ('Overwhelmingly Positive', 3)\n",
    "\n",
    "prediccion(\"Online Multi-Player\",\"Video Production\", \"0\",\"Overwhelmingly Positive\")"
   ]
  }
 ],
 "metadata": {
  "kernelspec": {
   "display_name": "Python 3",
   "language": "python",
   "name": "python3"
  },
  "language_info": {
   "codemirror_mode": {
    "name": "ipython",
    "version": 3
   },
   "file_extension": ".py",
   "mimetype": "text/x-python",
   "name": "python",
   "nbconvert_exporter": "python",
   "pygments_lexer": "ipython3",
   "version": "3.11.3"
  },
  "orig_nbformat": 4
 },
 "nbformat": 4,
 "nbformat_minor": 2
}
